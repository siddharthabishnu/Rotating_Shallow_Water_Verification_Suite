{
 "cells": [
  {
   "cell_type": "markdown",
   "metadata": {},
   "source": [
    "Name: Tutorial_FixAngleEdgeRoutines.ipynb <br/>\n",
    "Author: Sid Bishnu <br/>\n",
    "Details: This Jupyter Notebook is an exact replica of ../tests/Tutorial_FixAngleEdgeRoutines.py as it walks the user through testing the various functions of ../src/src_p/CommonRoutines.py."
   ]
  },
  {
   "cell_type": "code",
   "execution_count": 1,
   "metadata": {},
   "outputs": [],
   "source": [
    "import numpy as np\n",
    "import os\n",
    "import netCDF4 as nc\n",
    "from netCDF4 import Dataset"
   ]
  },
  {
   "cell_type": "code",
   "execution_count": 2,
   "metadata": {},
   "outputs": [],
   "source": [
    "def returnTanInverseInProperQuadrant(DeltaX,DeltaY,printAngle=False):\n",
    "    if DeltaX != 0.0:\n",
    "        if DeltaX > 0.0 and DeltaY > 0.0: # First Quadrant\n",
    "            angle = np.arctan(DeltaY/DeltaX)\n",
    "        elif DeltaX < 0.0 and DeltaY > 0.0: # Second Quadrant\n",
    "            angle = np.pi + np.arctan(DeltaY/DeltaX) \n",
    "        elif DeltaX < 0.0 and DeltaY < 0.0: # Third Quadrant\n",
    "            angle = np.pi + np.arctan(DeltaY/DeltaX) \n",
    "        elif DeltaX > 0.0 and DeltaY < 0.0: # Fourth Quadrant\n",
    "            angle = 2.0*np.pi + np.arctan(DeltaY/DeltaX) \n",
    "        elif DeltaX > 0.0 and DeltaY == 0.0:\n",
    "            angle = 0.0\n",
    "        elif DeltaX < 0.0 and DeltaY == 0.0:\n",
    "            angle = np.pi   \n",
    "    else:\n",
    "        if DeltaY > 0.0:\n",
    "            angle = np.pi/2.0\n",
    "        elif DeltaY < 0.0:\n",
    "            angle = -np.pi/2.0\n",
    "        else:\n",
    "            print('DeltaX = 0 and DeltaY = 0! Stopping!')\n",
    "            return\n",
    "    if printAngle:\n",
    "        if DeltaX != 0.0:\n",
    "            print('DeltaY/DeltaX = %.15f.' %(DeltaY/DeltaX))\n",
    "        print('The angle in radians is %.15f.' %angle)\n",
    "        print('The angle in degrees is %.15f.' %(angle*180.0/np.pi))\n",
    "        if DeltaX != 0.0:\n",
    "            print('The trigonometric tangent of the angle is %.15f.' %np.tan(angle))\n",
    "    return angle"
   ]
  },
  {
   "cell_type": "code",
   "execution_count": 3,
   "metadata": {},
   "outputs": [
    {
     "name": "stdout",
     "output_type": "stream",
     "text": [
      "DeltaY/DeltaX = 0.577350269189626.\n",
      "The angle in radians is 0.523598775598299.\n",
      "The angle in degrees is 30.000000000000004.\n",
      "The trigonometric tangent of the angle is 0.577350269189626.\n"
     ]
    }
   ],
   "source": [
    "angle = returnTanInverseInProperQuadrant(np.sqrt(3.0),1.0,True)"
   ]
  },
  {
   "cell_type": "code",
   "execution_count": 4,
   "metadata": {},
   "outputs": [
    {
     "name": "stdout",
     "output_type": "stream",
     "text": [
      "DeltaY/DeltaX = -0.577350269189626.\n",
      "The angle in radians is 2.617993877991494.\n",
      "The angle in degrees is 149.999999999999972.\n",
      "The trigonometric tangent of the angle is -0.577350269189626.\n"
     ]
    }
   ],
   "source": [
    "angle = returnTanInverseInProperQuadrant(-np.sqrt(3.0),1.0,True)"
   ]
  },
  {
   "cell_type": "code",
   "execution_count": 5,
   "metadata": {},
   "outputs": [
    {
     "name": "stdout",
     "output_type": "stream",
     "text": [
      "DeltaY/DeltaX = 0.577350269189626.\n",
      "The angle in radians is 3.665191429188092.\n",
      "The angle in degrees is 210.000000000000000.\n",
      "The trigonometric tangent of the angle is 0.577350269189626.\n"
     ]
    }
   ],
   "source": [
    "angle = returnTanInverseInProperQuadrant(-np.sqrt(3.0),-1.0,True)"
   ]
  },
  {
   "cell_type": "code",
   "execution_count": 6,
   "metadata": {},
   "outputs": [
    {
     "name": "stdout",
     "output_type": "stream",
     "text": [
      "DeltaY/DeltaX = -0.577350269189626.\n",
      "The angle in radians is 5.759586531581287.\n",
      "The angle in degrees is 329.999999999999943.\n",
      "The trigonometric tangent of the angle is -0.577350269189627.\n"
     ]
    }
   ],
   "source": [
    "angle = returnTanInverseInProperQuadrant(np.sqrt(3.0),-1.0,True)"
   ]
  },
  {
   "cell_type": "code",
   "execution_count": 7,
   "metadata": {},
   "outputs": [
    {
     "name": "stdout",
     "output_type": "stream",
     "text": [
      "The angle in radians is 1.570796326794897.\n",
      "The angle in degrees is 90.000000000000000.\n"
     ]
    }
   ],
   "source": [
    "angle = returnTanInverseInProperQuadrant(0.0,1.0,True)"
   ]
  },
  {
   "cell_type": "code",
   "execution_count": 8,
   "metadata": {},
   "outputs": [
    {
     "name": "stdout",
     "output_type": "stream",
     "text": [
      "The angle in radians is -1.570796326794897.\n",
      "The angle in degrees is -90.000000000000000.\n"
     ]
    }
   ],
   "source": [
    "angle = returnTanInverseInProperQuadrant(0.0,-1.0,True)"
   ]
  },
  {
   "cell_type": "code",
   "execution_count": 9,
   "metadata": {},
   "outputs": [
    {
     "name": "stdout",
     "output_type": "stream",
     "text": [
      "DeltaX = 0 and DeltaY = 0! Stopping!\n"
     ]
    }
   ],
   "source": [
    "returnTanInverseInProperQuadrant(0.0,0.0,True)"
   ]
  },
  {
   "cell_type": "code",
   "execution_count": 10,
   "metadata": {},
   "outputs": [],
   "source": [
    "def fix_angleEdge(mesh_directory,mesh_file_name,determineYCellAlongLatitude=True,printOutput=False,\n",
    "                  printRelevantMeshData=False):\n",
    "    cwd = os.getcwd()\n",
    "    path = cwd + '/' + mesh_directory + '/'\n",
    "    if not os.path.exists(path):\n",
    "        os.mkdir(path) # os.makedir(path)\n",
    "    os.chdir(path)\n",
    "    mesh_file = Dataset(mesh_file_name, \"r\", format='NETCDF4_CLASSIC')\n",
    "    dcEdge = round(max(mesh_file.variables['dcEdge'][:]))  \n",
    "    DeltaXMax = max(mesh_file.variables['dcEdge'][:])\n",
    "    xCell = mesh_file.variables['xCell'][:]        \n",
    "    yCell = mesh_file.variables['yCell'][:]  \n",
    "    nCells = np.size(yCell)\n",
    "    # The determination of yCellAlongLatitude in the following lines only holds for rectangular structured meshes \n",
    "    # with equal number of cells in each direction. However, for a problem with non-periodic boundary conditions,\n",
    "    # it will work for the culled mesh and the final mesh, but not the base mesh.\n",
    "    if determineYCellAlongLatitude:\n",
    "        nY = int(np.sqrt(nCells))\n",
    "        yCellAlongLatitude = np.zeros(nY)\n",
    "        iYAlongLatitude = 0\n",
    "        for iY in range(0,nCells):\n",
    "            if np.mod(float(iY),float(nY)) == 0.0:\n",
    "                yCellAlongLatitude[iYAlongLatitude] = yCell[iY]\n",
    "                iYAlongLatitude += 1\n",
    "        DeltaYMax = max(np.diff(yCellAlongLatitude))\n",
    "    else:\n",
    "        DeltaYMax = DeltaXMax*np.sqrt(3.0)/2.0\n",
    "    xEdge = mesh_file.variables['xEdge'][:]        \n",
    "    yEdge = mesh_file.variables['yEdge'][:] \n",
    "    angleEdge = mesh_file.variables['angleEdge'][:]\n",
    "    cellsOnEdge = mesh_file.variables['cellsOnEdge'][:]\n",
    "    nEdges = np.size(angleEdge)\n",
    "    computed_angleEdge = np.zeros(nEdges)\n",
    "    tolerance = 10.0**(-3.0) \n",
    "    if printOutput and printRelevantMeshData:\n",
    "        print('The relevant mesh data is:')\n",
    "    for iEdge in range(0,nEdges):\n",
    "        thisXEdge = xEdge[iEdge]\n",
    "        thisYEdge = yEdge[iEdge]\n",
    "        cellID1 = cellsOnEdge[iEdge,0]\n",
    "        cell1 = cellID1 - 1\n",
    "        cellID2 = cellsOnEdge[iEdge,1]\n",
    "        cell2 = cellID2 - 1\n",
    "        xCell1 = xCell[cell1]\n",
    "        xCell2 = xCell[cell2]\n",
    "        DeltaX = xCell2 - xCell1\n",
    "        yCell1 = yCell[cell1]\n",
    "        yCell2 = yCell[cell2]\n",
    "        DeltaY = yCell2 - yCell1\n",
    "        if cellID2 == 0:\n",
    "            if thisXEdge > xCell1 and abs(thisYEdge - yCell1) < tolerance:\n",
    "                DeltaX = dcEdge\n",
    "                DeltaY = 0.0\n",
    "            elif thisXEdge > xCell1 and thisYEdge > yCell1:\n",
    "                DeltaX = dcEdge/2.0\n",
    "                DeltaY = np.sqrt(3.0)/2.0*dcEdge   \n",
    "            elif thisXEdge > xCell1 and thisYEdge < yCell1:\n",
    "                DeltaX = dcEdge/2.0\n",
    "                DeltaY = -np.sqrt(3.0)/2.0*dcEdge                   \n",
    "            elif thisXEdge < xCell1 and abs(thisYEdge - yCell1) < tolerance:\n",
    "                DeltaX = -dcEdge\n",
    "                DeltaY = 0.0                \n",
    "            elif thisXEdge < xCell1 and thisYEdge > yCell1:\n",
    "                DeltaX = -dcEdge/2.0\n",
    "                DeltaY = np.sqrt(3.0)/2.0*dcEdge\n",
    "            elif thisXEdge < xCell1 and thisYEdge < yCell1:\n",
    "                DeltaX = -dcEdge/2.0\n",
    "                DeltaY = -np.sqrt(3.0)/2.0*dcEdge                 \n",
    "        else:\n",
    "            if abs(DeltaY) < tolerance and DeltaX < 0.0 and abs(DeltaX) > DeltaXMax:\n",
    "            # cells [{4,1},{8,5},{12,9},{16,13}] for a regular structured 4 x 4 mesh\n",
    "                DeltaX = dcEdge\n",
    "            elif abs(DeltaY) < tolerance and DeltaX > 0.0 and abs(DeltaX) > DeltaXMax:\n",
    "            # cells [{1,4},{5,8},{9,12},{13,16}] for a regular structured 4 x 4 mesh\n",
    "                DeltaX = -dcEdge\n",
    "            elif DeltaX < 0.0 and DeltaY < 0.0 and abs(DeltaX) > DeltaXMax and abs(DeltaY) > DeltaYMax:\n",
    "            # cells [{16,1}] for a regular structured 4 x 4 mesh\n",
    "                DeltaX = dcEdge/2.0\n",
    "                DeltaY = np.sqrt(3.0)/2.0*dcEdge\n",
    "            elif DeltaX < 0.0 and DeltaY < 0.0 and abs(DeltaX) > DeltaXMax and abs(DeltaY) <= DeltaYMax:\n",
    "            # cells [{8,1},{16,9}] for a regular structured 4 x 4 mesh    \n",
    "                DeltaX = dcEdge/2.0\n",
    "                DeltaY = -np.sqrt(3.0)/2.0*dcEdge                   \n",
    "            elif DeltaX < 0.0 and DeltaY < 0.0 and abs(DeltaX) < DeltaXMax and abs(DeltaY) > DeltaYMax:\n",
    "            # cells [{13,1},{14,2},{15,3},{16,4}] for a regular structured 4 x 4 mesh\n",
    "                DeltaX = -dcEdge/2.0\n",
    "                DeltaY = np.sqrt(3.0)/2.0*dcEdge\n",
    "            elif DeltaX < 0.0 and DeltaY > 0.0 and abs(DeltaX) < DeltaXMax and abs(DeltaY) > DeltaYMax:\n",
    "            # cells [{2,13},{3,14},{4,15}] for a regular structured 4 x 4 mesh    \n",
    "                DeltaX = -dcEdge/2.0\n",
    "                DeltaY = -np.sqrt(3.0)/2.0*dcEdge       \n",
    "            elif DeltaX < 0.0 and DeltaY > 0.0 and abs(DeltaX) > DeltaXMax and abs(DeltaY) <= DeltaYMax:\n",
    "            # cells [{8,9}] for a regular structured 4 x 4 mesh\n",
    "                DeltaX = dcEdge/2.0\n",
    "                DeltaY = np.sqrt(3.0)/2.0*dcEdge                   \n",
    "            elif DeltaX > 0.0 and DeltaY < 0.0 and abs(DeltaX) > DeltaXMax and abs(DeltaY) <= DeltaYMax:\n",
    "            # cells [{9,8}] for a regular structured 4 x 4 mesh\n",
    "                DeltaX = -dcEdge/2.0\n",
    "                DeltaY = -np.sqrt(3.0)/2.0*dcEdge                   \n",
    "            elif DeltaX > 0.0 and DeltaY < 0.0 and abs(DeltaX) < DeltaXMax and abs(DeltaY) > DeltaYMax:\n",
    "            # cells [{13,2},{14,3},{15,4}] for a regular structured 4 x 4 mesh\n",
    "                DeltaX = dcEdge/2.0\n",
    "                DeltaY = np.sqrt(3.0)/2.0*dcEdge                \n",
    "            elif DeltaX > 0.0 and DeltaY > 0.0 and abs(DeltaX) < DeltaXMax and abs(DeltaY) > DeltaYMax:\n",
    "            # cells [{1,13},{2,14},{3,15},{4,16}] for a regular structured 4 x 4 mesh            \n",
    "                DeltaX = dcEdge/2.0\n",
    "                DeltaY = -np.sqrt(3.0)/2.0*dcEdge    \n",
    "            elif DeltaX > 0.0 and DeltaY > 0.0 and abs(DeltaX) > DeltaXMax and abs(DeltaY) <= DeltaYMax:\n",
    "            # cells [{1,8},{9,16}] for a regular structured 4 x 4 mesh    \n",
    "                DeltaX = -dcEdge/2.0\n",
    "                DeltaY = np.sqrt(3.0)/2.0*dcEdge    \n",
    "            elif DeltaX > 0.0 and DeltaY > 0.0 and abs(DeltaX) > DeltaXMax and abs(DeltaY) > DeltaYMax:\n",
    "            # cells [{1,16}] for a regular structured 4 x 4 mesh    \n",
    "                DeltaX = -dcEdge/2.0\n",
    "                DeltaY = -np.sqrt(3.0)/2.0*dcEdge   \n",
    "        computed_angleEdge[iEdge] = returnTanInverseInProperQuadrant(DeltaX,DeltaY)\n",
    "        if printOutput:\n",
    "            # printOutput should be specified as True only for small meshes consisting of 4 x 4 cells.\n",
    "            if printRelevantMeshData: \n",
    "            # printRelevantMeshData should be specified as True only for small meshes consisting of 4 x 4 cells.\n",
    "                print('%2d [%2d %2d] %+9.2f [%+9.2f %+9.2f] %+9.2f %+9.2f [%+9.2f %+9.2f] %+8.2f [%+5.2f %+5.2f]'\n",
    "                      %(iEdge,cellID1,cellID2,thisXEdge,xCell1,xCell2,DeltaX,thisYEdge,yCell1,yCell2,DeltaY,\n",
    "                        angleEdge[iEdge],computed_angleEdge[iEdge]))\n",
    "            else:\n",
    "                print(\n",
    "                'For edge %2d with cellsOnEdge = {%2d,%2d}, {angleEdge, computed_angleEdge} is {%.2f, %.2f}.'\n",
    "                %(iEdge+1,cellID1,cellID2,angleEdge[iEdge],computed_angleEdge[iEdge]))\n",
    "    os.chdir(cwd)\n",
    "    return computed_angleEdge"
   ]
  },
  {
   "cell_type": "code",
   "execution_count": 11,
   "metadata": {},
   "outputs": [],
   "source": [
    "do_fix_angleEdge_base_mesh_P = False\n",
    "if do_fix_angleEdge_base_mesh_P:\n",
    "    computed_angleEdge = fix_angleEdge('MPAS_O_Shallow_Water_Mesh_Generation/CoastalKelvinWaveMesh/PlotMesh',\n",
    "                                       'base_mesh_P.nc',determineYCellAlongLatitude=True,printOutput=False,\n",
    "                                       printRelevantMeshData=False)"
   ]
  },
  {
   "cell_type": "code",
   "execution_count": 12,
   "metadata": {},
   "outputs": [],
   "source": [
    "do_fix_angleEdge_mesh_P = False\n",
    "if do_fix_angleEdge_mesh_P:\n",
    "    computed_angleEdge = fix_angleEdge('MPAS_O_Shallow_Water_Mesh_Generation/CoastalKelvinWaveMesh/PlotMesh',\n",
    "                                       'mesh_P.nc',determineYCellAlongLatitude=True,printOutput=False,\n",
    "                                       printRelevantMeshData=False)"
   ]
  },
  {
   "cell_type": "code",
   "execution_count": 13,
   "metadata": {},
   "outputs": [],
   "source": [
    "do_fix_angleEdge_base_mesh_NP_x = False\n",
    "if do_fix_angleEdge_base_mesh_NP_x:\n",
    "    computed_angleEdge = fix_angleEdge('MPAS_O_Shallow_Water_Mesh_Generation/CoastalKelvinWaveMesh/PlotMesh',\n",
    "                                       'base_mesh_NP_x.nc',determineYCellAlongLatitude=False,printOutput=False,\n",
    "                                       printRelevantMeshData=False)"
   ]
  },
  {
   "cell_type": "code",
   "execution_count": 14,
   "metadata": {},
   "outputs": [],
   "source": [
    "do_fix_angleEdge_culled_mesh_NP_x = False\n",
    "if do_fix_angleEdge_culled_mesh_NP_x:\n",
    "    computed_angleEdge = fix_angleEdge('MPAS_O_Shallow_Water_Mesh_Generation/CoastalKelvinWaveMesh/PlotMesh',\n",
    "                                       'culled_mesh_NP_x.nc',determineYCellAlongLatitude=True,printOutput=False,\n",
    "                                       printRelevantMeshData=False)"
   ]
  },
  {
   "cell_type": "code",
   "execution_count": 15,
   "metadata": {},
   "outputs": [],
   "source": [
    "do_fix_angleEdge_mesh_NP_x = False\n",
    "if do_fix_angleEdge_mesh_NP_x:\n",
    "    computed_angleEdge = fix_angleEdge('MPAS_O_Shallow_Water_Mesh_Generation/CoastalKelvinWaveMesh/PlotMesh',\n",
    "                                       'mesh_NP_x.nc',determineYCellAlongLatitude=True,printOutput=False,\n",
    "                                       printRelevantMeshData=False)"
   ]
  },
  {
   "cell_type": "code",
   "execution_count": 16,
   "metadata": {},
   "outputs": [],
   "source": [
    "do_fix_angleEdge_base_mesh_NP_y = False\n",
    "if do_fix_angleEdge_base_mesh_NP_y:\n",
    "    computed_angleEdge = fix_angleEdge('MPAS_O_Shallow_Water_Mesh_Generation/CoastalKelvinWaveMesh/PlotMesh',\n",
    "                                       'base_mesh_NP_y.nc',determineYCellAlongLatitude=False,printOutput=False,\n",
    "                                       printRelevantMeshData=False)"
   ]
  },
  {
   "cell_type": "code",
   "execution_count": 17,
   "metadata": {},
   "outputs": [],
   "source": [
    "do_fix_angleEdge_culled_mesh_NP_y = False\n",
    "if do_fix_angleEdge_culled_mesh_NP_y:\n",
    "    computed_angleEdge = fix_angleEdge('MPAS_O_Shallow_Water_Mesh_Generation/CoastalKelvinWaveMesh/PlotMesh',\n",
    "                                       'culled_mesh_NP_y.nc',determineYCellAlongLatitude=True,printOutput=False,\n",
    "                                       printRelevantMeshData=False)"
   ]
  },
  {
   "cell_type": "code",
   "execution_count": 18,
   "metadata": {},
   "outputs": [],
   "source": [
    "do_fix_angleEdge_mesh_NP_y = False\n",
    "if do_fix_angleEdge_mesh_NP_y:\n",
    "    computed_angleEdge = fix_angleEdge('MPAS_O_Shallow_Water_Mesh_Generation/CoastalKelvinWaveMesh/PlotMesh',\n",
    "                                       'mesh_NP_y.nc',determineYCellAlongLatitude=True,printOutput=False,\n",
    "                                       printRelevantMeshData=False)"
   ]
  },
  {
   "cell_type": "code",
   "execution_count": 19,
   "metadata": {},
   "outputs": [],
   "source": [
    "do_fix_angleEdge_base_mesh_NP_xy = False\n",
    "if do_fix_angleEdge_base_mesh_NP_xy:\n",
    "    computed_angleEdge = fix_angleEdge('MPAS_O_Shallow_Water_Mesh_Generation/CoastalKelvinWaveMesh/PlotMesh',\n",
    "                                       'base_mesh_NP_xy.nc',determineYCellAlongLatitude=False,printOutput=False,\n",
    "                                       printRelevantMeshData=False)"
   ]
  },
  {
   "cell_type": "code",
   "execution_count": 20,
   "metadata": {},
   "outputs": [],
   "source": [
    "do_fix_angleEdge_culled_mesh_NP_xy = False\n",
    "if do_fix_angleEdge_culled_mesh_NP_xy:\n",
    "    computed_angleEdge = fix_angleEdge('MPAS_O_Shallow_Water_Mesh_Generation/CoastalKelvinWaveMesh/PlotMesh',\n",
    "                                       'culled_mesh_NP_xy.nc',determineYCellAlongLatitude=True,printOutput=False,\n",
    "                                       printRelevantMeshData=False)"
   ]
  },
  {
   "cell_type": "code",
   "execution_count": 21,
   "metadata": {},
   "outputs": [],
   "source": [
    "do_fix_angleEdge_mesh_NP_xy = False\n",
    "if do_fix_angleEdge_mesh_NP_xy:\n",
    "    computed_angleEdge = fix_angleEdge('MPAS_O_Shallow_Water_Mesh_Generation/CoastalKelvinWaveMesh/PlotMesh',\n",
    "                                       'mesh_NP_xy.nc',determineYCellAlongLatitude=True,printOutput=False,\n",
    "                                       printRelevantMeshData=False)"
   ]
  },
  {
   "cell_type": "code",
   "execution_count": 22,
   "metadata": {},
   "outputs": [
    {
     "name": "stdout",
     "output_type": "stream",
     "text": [
      "[NbConvertApp] Converting notebook fixAngleEdge.ipynb to script\n",
      "[NbConvertApp] Writing 13914 bytes to fixAngleEdge.py\n"
     ]
    }
   ],
   "source": [
    "!jupyter nbconvert --to script fixAngleEdge.ipynb"
   ]
  },
  {
   "cell_type": "code",
   "execution_count": 23,
   "metadata": {},
   "outputs": [
    {
     "name": "stdout",
     "output_type": "stream",
     "text": [
      "[NbConvertApp] Converting notebook fixAngleEdge.ipynb to html\n",
      "[NbConvertApp] Writing 636063 bytes to fixAngleEdge.html\n"
     ]
    }
   ],
   "source": [
    "!jupyter nbconvert --to html fixAngleEdge.ipynb"
   ]
  },
  {
   "cell_type": "code",
   "execution_count": 24,
   "metadata": {},
   "outputs": [],
   "source": [
    "with open('fixAngleEdge.py') as f1:\n",
    "    lines = f1.readlines()\n",
    "with open('fixAngleEdge.py','w') as f2:\n",
    "    f2.writelines(lines[:-22])"
   ]
  }
 ],
 "metadata": {
  "kernelspec": {
   "display_name": "Python 3",
   "language": "python",
   "name": "python3"
  },
  "language_info": {
   "codemirror_mode": {
    "name": "ipython",
    "version": 3
   },
   "file_extension": ".py",
   "mimetype": "text/x-python",
   "name": "python",
   "nbconvert_exporter": "python",
   "pygments_lexer": "ipython3",
   "version": "3.9.4"
  }
 },
 "nbformat": 4,
 "nbformat_minor": 2
}
