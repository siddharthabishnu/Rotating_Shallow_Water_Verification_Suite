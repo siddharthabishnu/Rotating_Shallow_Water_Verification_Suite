{
 "cells": [
  {
   "cell_type": "markdown",
   "metadata": {},
   "source": [
    "Name: Tutorial_FixAngleEdgeRoutines.ipynb <br/>\n",
    "Author: Sid Bishnu <br/>\n",
    "Details: This Jupyter Notebook is an exact replica of ../../tests/MPAS_Ocean_Shallow_Water_Tests/Test_FixAngleEdgeRoutines.py as it walks the user through testing the various functions of ../../src/MPAS_Ocean_Shallow_Water/FixAngleEdgeRoutines.py."
   ]
  },
  {
   "cell_type": "code",
   "execution_count": 1,
   "metadata": {},
   "outputs": [],
   "source": [
    "import numpy as np\n",
    "import os\n",
    "import sys\n",
    "sys.path.append(os.path.realpath('../..') + '/src/MPAS_Ocean_Shallow_Water/')\n",
    "from IPython.utils import io\n",
    "with io.capture_output() as captured:\n",
    "    import FixAngleEdgeRoutines as FAER"
   ]
  },
  {
   "cell_type": "code",
   "execution_count": 2,
   "metadata": {},
   "outputs": [],
   "source": [
    "def TestReturnTanInverseInProperQuadrant():\n",
    "    PrintAngle = True \n",
    "    ReturnAngle = False\n",
    "    DeltaX = np.sqrt(3.0)\n",
    "    DeltaY = 1.0\n",
    "    FAER.ReturnTanInverseInProperQuadrant(DeltaX,DeltaY,PrintAngle,ReturnAngle)\n",
    "    print(' ')\n",
    "    DeltaX = -np.sqrt(3.0)\n",
    "    DeltaY = 1.0\n",
    "    FAER.ReturnTanInverseInProperQuadrant(DeltaX,DeltaY,PrintAngle,ReturnAngle)\n",
    "    print(' ')\n",
    "    DeltaX = -np.sqrt(3.0)\n",
    "    DeltaY = -1.0\n",
    "    FAER.ReturnTanInverseInProperQuadrant(DeltaX,DeltaY,PrintAngle,ReturnAngle)\n",
    "    print(' ')\n",
    "    DeltaX = np.sqrt(3.0)\n",
    "    DeltaY = -1.0\n",
    "    FAER.ReturnTanInverseInProperQuadrant(DeltaX,DeltaY,PrintAngle,ReturnAngle)\n",
    "    print(' ')\n",
    "    DeltaX = 0.0\n",
    "    DeltaY = 1.0\n",
    "    FAER.ReturnTanInverseInProperQuadrant(DeltaX,DeltaY,PrintAngle,ReturnAngle)\n",
    "    print(' ')\n",
    "    DeltaX = 0.0\n",
    "    DeltaY = -1.0\n",
    "    FAER.ReturnTanInverseInProperQuadrant(DeltaX,DeltaY,PrintAngle,ReturnAngle)\n",
    "    print(' ')\n",
    "    DeltaX = 0.0\n",
    "    DeltaY = 0.0\n",
    "    FAER.ReturnTanInverseInProperQuadrant(DeltaX,DeltaY,PrintAngle,ReturnAngle)\n",
    "    \n",
    "do_TestReturnTanInverseInProperQuadrant = False\n",
    "if do_TestReturnTanInverseInProperQuadrant:\n",
    "    TestReturnTanInverseInProperQuadrant()"
   ]
  },
  {
   "cell_type": "code",
   "execution_count": 3,
   "metadata": {},
   "outputs": [],
   "source": [
    "def TestFixAngleEdge():\n",
    "    mesh_directory = '../../meshes/MPAS_Ocean_Shallow_Water_Meshes/MPAS_Ocean_Shallow_Water_Meshes_4x4_Cells'\n",
    "    PrintOutput = False\n",
    "    PrintRelevantMeshData = False\n",
    "    ReturnComputedAngleEdge = False\n",
    "    mesh_file_name = 'base_mesh_P.nc'\n",
    "    DetermineYCellAlongLatitude = True\n",
    "    FAER.FixAngleEdge(mesh_directory,mesh_file_name,DetermineYCellAlongLatitude,PrintOutput,PrintRelevantMeshData,\n",
    "                      ReturnComputedAngleEdge)\n",
    "    mesh_file_name = 'mesh_P.nc'\n",
    "    FAER.FixAngleEdge(mesh_directory,mesh_file_name,DetermineYCellAlongLatitude,PrintOutput,PrintRelevantMeshData,\n",
    "                      ReturnComputedAngleEdge)\n",
    "    DetermineYCellAlongLatitude = False\n",
    "    mesh_file_name = 'base_mesh_NP_x.nc'\n",
    "    FAER.FixAngleEdge(mesh_directory,mesh_file_name,DetermineYCellAlongLatitude,PrintOutput,PrintRelevantMeshData,\n",
    "                      ReturnComputedAngleEdge)\n",
    "    DetermineYCellAlongLatitude = True\n",
    "    mesh_file_name = 'culled_mesh_NP_x.nc'\n",
    "    FAER.FixAngleEdge(mesh_directory,mesh_file_name,DetermineYCellAlongLatitude,PrintOutput,PrintRelevantMeshData,\n",
    "                      ReturnComputedAngleEdge)\n",
    "    mesh_file_name = 'mesh_NP_x.nc'\n",
    "    FAER.FixAngleEdge(mesh_directory,mesh_file_name,DetermineYCellAlongLatitude,PrintOutput,PrintRelevantMeshData,\n",
    "                      ReturnComputedAngleEdge)\n",
    "    DetermineYCellAlongLatitude = False\n",
    "    mesh_file_name = 'base_mesh_NP_y.nc'\n",
    "    FAER.FixAngleEdge(mesh_directory,mesh_file_name,DetermineYCellAlongLatitude,PrintOutput,PrintRelevantMeshData,\n",
    "                      ReturnComputedAngleEdge)\n",
    "    DetermineYCellAlongLatitude = True\n",
    "    mesh_file_name = 'culled_mesh_NP_y.nc'\n",
    "    FAER.FixAngleEdge(mesh_directory,mesh_file_name,DetermineYCellAlongLatitude,PrintOutput,PrintRelevantMeshData,\n",
    "                      ReturnComputedAngleEdge)\n",
    "    mesh_file_name = 'mesh_NP_y.nc'\n",
    "    FAER.FixAngleEdge(mesh_directory,mesh_file_name,DetermineYCellAlongLatitude,PrintOutput,PrintRelevantMeshData,\n",
    "                      ReturnComputedAngleEdge)\n",
    "    DetermineYCellAlongLatitude = False\n",
    "    mesh_file_name = 'base_mesh_NP_xy.nc'\n",
    "    FAER.FixAngleEdge(mesh_directory,mesh_file_name,DetermineYCellAlongLatitude,PrintOutput,PrintRelevantMeshData,\n",
    "                      ReturnComputedAngleEdge)\n",
    "    DetermineYCellAlongLatitude = True\n",
    "    mesh_file_name = 'culled_mesh_NP_xy.nc'\n",
    "    FAER.FixAngleEdge(mesh_directory,mesh_file_name,DetermineYCellAlongLatitude,PrintOutput,PrintRelevantMeshData,\n",
    "                      ReturnComputedAngleEdge)\n",
    "    mesh_file_name = 'mesh_NP_xy.nc'\n",
    "    FAER.FixAngleEdge(mesh_directory,mesh_file_name,DetermineYCellAlongLatitude,PrintOutput,PrintRelevantMeshData,\n",
    "                      ReturnComputedAngleEdge)\n",
    "    \n",
    "do_TestFixAngleEdge = False\n",
    "if do_TestFixAngleEdge:\n",
    "    TestFixAngleEdge()"
   ]
  }
 ],
 "metadata": {
  "kernelspec": {
   "display_name": "Python 3",
   "language": "python",
   "name": "python3"
  },
  "language_info": {
   "codemirror_mode": {
    "name": "ipython",
    "version": 3
   },
   "file_extension": ".py",
   "mimetype": "text/x-python",
   "name": "python",
   "nbconvert_exporter": "python",
   "pygments_lexer": "ipython3",
   "version": "3.9.4"
  }
 },
 "nbformat": 4,
 "nbformat_minor": 2
}
