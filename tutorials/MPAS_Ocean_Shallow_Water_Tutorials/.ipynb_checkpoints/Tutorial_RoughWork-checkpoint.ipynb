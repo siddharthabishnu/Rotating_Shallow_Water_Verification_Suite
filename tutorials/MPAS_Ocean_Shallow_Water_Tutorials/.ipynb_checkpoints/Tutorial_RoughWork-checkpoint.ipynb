{
 "cells": [
  {
   "cell_type": "code",
   "execution_count": 1,
   "id": "f59d7af9",
   "metadata": {},
   "outputs": [],
   "source": [
    "import numpy as np"
   ]
  },
  {
   "cell_type": "code",
   "execution_count": 2,
   "id": "82e53ac2",
   "metadata": {},
   "outputs": [
    {
     "name": "stdout",
     "output_type": "stream",
     "text": [
      "matplotlib: 3.3.4\n"
     ]
    }
   ],
   "source": [
    "import matplotlib\n",
    "print('matplotlib: {}'.format(matplotlib.__version__))"
   ]
  },
  {
   "cell_type": "code",
   "execution_count": 3,
   "id": "c31c1d70",
   "metadata": {},
   "outputs": [
    {
     "name": "stdout",
     "output_type": "stream",
     "text": [
      "[2. 2. 2.] 1\n"
     ]
    }
   ],
   "source": [
    "x0 = 1\n",
    "y0 = x0\n",
    "x0 = y0 + np.ones(3)\n",
    "print(x0,y0)"
   ]
  },
  {
   "cell_type": "code",
   "execution_count": 4,
   "id": "379f130e",
   "metadata": {},
   "outputs": [
    {
     "name": "stdout",
     "output_type": "stream",
     "text": [
      "5\n",
      "[6. 6. 6.]\n"
     ]
    }
   ],
   "source": [
    "x0 = 5\n",
    "print(x0)\n",
    "x0 += np.ones(3)\n",
    "print(x0)"
   ]
  },
  {
   "cell_type": "code",
   "execution_count": 5,
   "id": "71bf3895",
   "metadata": {},
   "outputs": [
    {
     "ename": "SystemExit",
     "evalue": "",
     "output_type": "error",
     "traceback": [
      "An exception has occurred, use %tb to see the full traceback.\n",
      "\u001b[0;31mSystemExit\u001b[0m\n"
     ]
    },
    {
     "name": "stderr",
     "output_type": "stream",
     "text": [
      "/opt/miniconda3/lib/python3.9/site-packages/IPython/core/interactiveshell.py:3445: UserWarning: To exit: use 'exit', 'quit', or Ctrl-D.\n",
      "  warn(\"To exit: use 'exit', 'quit', or Ctrl-D.\", stacklevel=1)\n"
     ]
    }
   ],
   "source": [
    "import sys\n",
    "sys.exit()"
   ]
  },
  {
   "cell_type": "code",
   "execution_count": null,
   "id": "ba04a4e3",
   "metadata": {},
   "outputs": [],
   "source": [
    "class DGSolution:\n",
    "    \n",
    "    def __init__(myDGSolution):\n",
    "        myDGSolution.Tendencies = np.zeros((3,3))"
   ]
  },
  {
   "cell_type": "code",
   "execution_count": null,
   "id": "7de427b4",
   "metadata": {},
   "outputs": [],
   "source": [
    "myDGSolutionArray1 = np.empty(2,dtype=DGSolution)\n",
    "myDGSolutionArray2 = np.empty(2,dtype=DGSolution)\n",
    "for i in range(0,2):\n",
    "    myDGSolutionArray1[i] = DGSolution()\n",
    "    myDGSolutionArray2[i] = DGSolution()"
   ]
  },
  {
   "cell_type": "code",
   "execution_count": null,
   "id": "9caf473b",
   "metadata": {},
   "outputs": [],
   "source": [
    "for i in range(0,2):\n",
    "    for j in range(0,3):\n",
    "        for k in range(0,3):\n",
    "            myDGSolutionArray1[i].Tendencies[j,k] = i + j + k\n",
    "            print(i,j,k,myDGSolutionArray1[i].Tendencies[j,k],myDGSolutionArray2[i].Tendencies[j,k])\n",
    "for i in range(0,2):\n",
    "    myDGSolutionArray2[i].Tendencies[:,:] = myDGSolutionArray1[i].Tendencies[:,:]\n",
    "for i in range(0,2):\n",
    "    for j in range(0,3):\n",
    "        for k in range(0,3):\n",
    "            print(i,j,k,myDGSolutionArray1[i].Tendencies[j,k],myDGSolutionArray2[i].Tendencies[j,k])"
   ]
  },
  {
   "cell_type": "code",
   "execution_count": null,
   "id": "16513908",
   "metadata": {},
   "outputs": [],
   "source": [
    "nElements = 4\n",
    "nXiPlot = 3\n",
    "nEtaPlot = 2\n",
    "i = -1\n",
    "for iElement in range(0,nElements):\n",
    "    for iEtaPlot in range(0,nEtaPlot+1):\n",
    "        for iXiPlot in range(0,nXiPlot+1):\n",
    "            i += 1\n",
    "            j = iElement*(nXiPlot+1)*(nEtaPlot+1) + iEtaPlot*(nXiPlot+1) + iXiPlot\n",
    "            print(iElement,iEtaPlot,iXiPlot,i,j)"
   ]
  },
  {
   "cell_type": "code",
   "execution_count": null,
   "id": "c31aeccd",
   "metadata": {},
   "outputs": [],
   "source": [
    "nCases = 5\n",
    "dt = np.zeros(nCases)\n",
    "dt[nCases-1] = 32\n",
    "for iCase in reversed(range(0,nCases-1)):\n",
    "    dt[iCase] = dt[iCase+1]*2\n",
    "    print(iCase,dt[iCase])"
   ]
  },
  {
   "cell_type": "code",
   "execution_count": null,
   "id": "f3f7e90c",
   "metadata": {},
   "outputs": [],
   "source": [
    "n = round(5.99/1)\n",
    "for i in range(0,n):\n",
    "    print(i)"
   ]
  }
 ],
 "metadata": {
  "kernelspec": {
   "display_name": "Python 3",
   "language": "python",
   "name": "python3"
  },
  "language_info": {
   "codemirror_mode": {
    "name": "ipython",
    "version": 3
   },
   "file_extension": ".py",
   "mimetype": "text/x-python",
   "name": "python",
   "nbconvert_exporter": "python",
   "pygments_lexer": "ipython3",
   "version": "3.9.4"
  }
 },
 "nbformat": 4,
 "nbformat_minor": 5
}
