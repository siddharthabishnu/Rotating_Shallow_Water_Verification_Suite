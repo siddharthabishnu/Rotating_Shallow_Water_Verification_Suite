{
 "cells": [
  {
   "cell_type": "markdown",
   "id": "038cbcac",
   "metadata": {},
   "source": [
    "Name: Tutorial_SolutionClass.ipynb <br/>\n",
    "Author: Sid Bishnu <br/>\n",
    "Details: This Jupyter Notebook is an exact replica of ../../tests/MPAS_Ocean_Shallow_Water_Tests/Test_SolutionClass.py as it walks the user through testing the MPAS-Ocean shallow water solution class defined in ../../src/MPAS_Ocean_Shallow_Water/SolutionClass.py."
   ]
  },
  {
   "cell_type": "code",
   "execution_count": 1,
   "id": "9ef91c15",
   "metadata": {},
   "outputs": [],
   "source": [
    "import os\n",
    "import sys\n",
    "sys.path.append(os.path.realpath('../..') + '/src/MPAS_Ocean_Shallow_Water/')\n",
    "from IPython.utils import io\n",
    "with io.capture_output() as captured:\n",
    "    import SolutionClass"
   ]
  },
  {
   "cell_type": "code",
   "execution_count": 2,
   "id": "6b42f0f7",
   "metadata": {},
   "outputs": [],
   "source": [
    "def TestSolution():\n",
    "    # The following values of nCells, nEdges, and nVertices represent the number of cells, edges, and vertices in a\n",
    "    # planar hexagonal MPAS-Ocean mesh with non-periodic zonal and periodic meridional boundaries.\n",
    "    nCells = 10000\n",
    "    nEdges = 30200\n",
    "    nVertices = 20200\n",
    "    TimeIntegrator = 'WilliamsonLowStorageThirdOrderRungeKuttaMethod'\n",
    "    mySolution = SolutionClass.Solution(nCells,nEdges,nVertices,TimeIntegrator)\n",
    "    \n",
    "do_TestSolution = False\n",
    "if do_TestSolution:\n",
    "    TestSolution()"
   ]
  }
 ],
 "metadata": {
  "kernelspec": {
   "display_name": "Python 3",
   "language": "python",
   "name": "python3"
  },
  "language_info": {
   "codemirror_mode": {
    "name": "ipython",
    "version": 3
   },
   "file_extension": ".py",
   "mimetype": "text/x-python",
   "name": "python",
   "nbconvert_exporter": "python",
   "pygments_lexer": "ipython3",
   "version": "3.9.4"
  }
 },
 "nbformat": 4,
 "nbformat_minor": 5
}
