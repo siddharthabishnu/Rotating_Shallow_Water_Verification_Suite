{
 "cells": [
  {
   "cell_type": "markdown",
   "id": "f7924191",
   "metadata": {},
   "source": [
    "Name: Tutorial_DGNodalStorage2DClass.ipynb <br/>\n",
    "Author: Sid Bishnu <br/>\n",
    "Details: This Jupyter Notebook is an exact replica of ../../tests/DGSEM_Rotating_Shallow_Water_Tests/Test_DGNodalStorage2DClass.py as it walks the user through testing the two-dimensional Discontinuous Galerkin (DG) nodal storage class defined in ../../src/DGSEM_Rotating_Shallow_Water/DGNodalStorage2DClass.py."
   ]
  },
  {
   "cell_type": "code",
   "execution_count": 1,
   "id": "c1dc425e",
   "metadata": {},
   "outputs": [],
   "source": [
    "import os\n",
    "import sys\n",
    "sys.path.append(os.path.realpath('../..') + '/src/DGSEM_Rotating_Shallow_Water/')\n",
    "from IPython.utils import io\n",
    "with io.capture_output() as captured:\n",
    "    import DGNodalStorage2DClass as DGNS2D"
   ]
  },
  {
   "cell_type": "code",
   "execution_count": 2,
   "id": "5a7f210b",
   "metadata": {},
   "outputs": [],
   "source": [
    "def TestDGNodalStorage2D():\n",
    "    nXi = 10\n",
    "    nEta = 10\n",
    "    myDGNodalStorage2D = DGNS2D.DGNodalStorage2D(nXi,nEta)"
   ]
  },
  {
   "cell_type": "code",
   "execution_count": 3,
   "id": "431e1db5",
   "metadata": {},
   "outputs": [],
   "source": [
    "do_TestDGNodalStorage2D = False\n",
    "if do_TestDGNodalStorage2D:\n",
    "    TestDGNodalStorage2D()"
   ]
  }
 ],
 "metadata": {
  "kernelspec": {
   "display_name": "Python 3",
   "language": "python",
   "name": "python3"
  },
  "language_info": {
   "codemirror_mode": {
    "name": "ipython",
    "version": 3
   },
   "file_extension": ".py",
   "mimetype": "text/x-python",
   "name": "python",
   "nbconvert_exporter": "python",
   "pygments_lexer": "ipython3",
   "version": "3.9.4"
  }
 },
 "nbformat": 4,
 "nbformat_minor": 5
}
