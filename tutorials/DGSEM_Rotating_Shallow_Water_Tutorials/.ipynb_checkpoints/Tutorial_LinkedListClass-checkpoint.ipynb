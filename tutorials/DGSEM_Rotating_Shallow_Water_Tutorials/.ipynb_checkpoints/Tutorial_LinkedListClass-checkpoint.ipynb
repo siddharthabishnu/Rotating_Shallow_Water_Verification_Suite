{
 "cells": [
  {
   "cell_type": "markdown",
   "id": "de5f4e54",
   "metadata": {},
   "source": [
    "Name: Tutorial_LinkedListClass.ipynb <br/>\n",
    "Author: Sid Bishnu <br/>\n",
    "Details: This Jupyter Notebook is an exact replica of ../../tests/DGSEM_Rotating_Shallow_Water_Tests/Test_LinkedListClass.py as it walks the user through testing the linked list class defined in ../../src/DGSEM_Rotating_Shallow_Water/LinkedListClass.py."
   ]
  },
  {
   "cell_type": "code",
   "execution_count": 1,
   "id": "8907f584",
   "metadata": {},
   "outputs": [],
   "source": [
    "import os\n",
    "import sys\n",
    "sys.path.append(os.path.realpath('../..') + '/src/DGSEM_Rotating_Shallow_Water/')\n",
    "from IPython.utils import io\n",
    "with io.capture_output() as captured:\n",
    "    import LinkedListClass as LL"
   ]
  },
  {
   "cell_type": "code",
   "execution_count": 2,
   "id": "c3db70df",
   "metadata": {},
   "outputs": [],
   "source": [
    "def TestLinkedList():\n",
    "    myLinkedList = LL.LinkedList()\n",
    "    e1 = LL.Record(listData=1,key=1)\n",
    "    e2 = LL.Record(listData=2,key=2)\n",
    "    e3 = LL.Record(listData=3,key=3)\n",
    "    myLinkedList.head = e1\n",
    "    myLinkedList.head.next = e2\n",
    "    e2.next = e3\n",
    "    myLinkedList.tail = e3\n",
    "    e3.next = None\n",
    "    print('Printing linked list before addition:')\n",
    "    myLinkedList.PrintList()\n",
    "    myLinkedList.AddToList(4,4)\n",
    "    print('Printing linked list after addition:')\n",
    "    myLinkedList.PrintList()\n",
    "    print('Is the linked list empty?')\n",
    "    LogicalOutput = myLinkedList.ListIsEmpty()\n",
    "    print(LogicalOutput)\n",
    "    print('Destructing linked list:')\n",
    "    myLinkedList.DestructList()\n",
    "    print('Is the linked list empty?')\n",
    "    LogicalOutput = myLinkedList.ListIsEmpty()\n",
    "    print(LogicalOutput)\n",
    "\n",
    "do_TestLinkedList = False\n",
    "if do_TestLinkedList:\n",
    "    TestLinkedList()"
   ]
  }
 ],
 "metadata": {
  "kernelspec": {
   "display_name": "Python 3",
   "language": "python",
   "name": "python3"
  },
  "language_info": {
   "codemirror_mode": {
    "name": "ipython",
    "version": 3
   },
   "file_extension": ".py",
   "mimetype": "text/x-python",
   "name": "python",
   "nbconvert_exporter": "python",
   "pygments_lexer": "ipython3",
   "version": "3.9.4"
  }
 },
 "nbformat": 4,
 "nbformat_minor": 5
}
