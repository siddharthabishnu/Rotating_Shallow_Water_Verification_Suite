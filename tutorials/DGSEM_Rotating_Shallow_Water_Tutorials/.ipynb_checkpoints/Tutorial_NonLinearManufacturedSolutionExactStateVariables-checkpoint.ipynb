{
 "cells": [
  {
   "cell_type": "markdown",
   "id": "72e2079e",
   "metadata": {},
   "source": [
    "In this Jupyter Notebook, we compute the source terms of the non-linear manufactured solution test case."
   ]
  },
  {
   "cell_type": "code",
   "execution_count": 1,
   "id": "eb63e07c",
   "metadata": {},
   "outputs": [],
   "source": [
    "import numpy as np\n",
    "import sympy as sp\n",
    "from sympy.utilities.lambdify import lambdify"
   ]
  },
  {
   "cell_type": "code",
   "execution_count": 2,
   "id": "c24e0e95",
   "metadata": {},
   "outputs": [],
   "source": [
    "def DetermineNonLinearManufacturedSolutionExactStateVariables():\n",
    "    angleEdge, etaHat, f0, g, H, kX, kY, omega, t, u, v, x, y = (\n",
    "    sp.symbols('angleEdge, etaHat, f0, g, H, kX, kY, omega, t, u, v, x, y'))\n",
    "    eta = etaHat*sp.sin(kX*x + kY*y - omega*t)\n",
    "    DetermineNonLinearManufacturedSolutionExactSurfaceElevation_SymPyToNumPy = (\n",
    "    lambdify((etaHat,kX,kY,omega,x,y,t,), eta, modules=\"numpy\"))\n",
    "    u = etaHat*sp.cos(kX*x + kY*y - omega*t)\n",
    "    DetermineNonLinearManufacturedSolutionExactZonalVelocity_SymPyToNumPy = (\n",
    "    lambdify((etaHat,kX,kY,omega,x,y,t,), u, modules=\"numpy\"))\n",
    "    v = u\n",
    "    DetermineNonLinearManufacturedSolutionExactMeridionalVelocity_SymPyToNumPy = (\n",
    "    lambdify((etaHat,kX,kY,omega,x,y,t,), v, modules=\"numpy\"))\n",
    "    eta_t = sp.diff(eta,t)\n",
    "    eta_x = sp.diff(eta,x)\n",
    "    eta_y = sp.diff(eta,y)\n",
    "    u_t = sp.diff(u,t)\n",
    "    u_x = sp.diff(u,x)\n",
    "    u_y = sp.diff(u,y)\n",
    "    v_t = u_t\n",
    "    v_x = u_x\n",
    "    v_y = u_y\n",
    "    etaSourceTerm = eta_t + (H + eta)*u_x + eta_x*u + (H + eta)*v_y + eta_y*v\n",
    "    etaSourceTerm = sp.collect(sp.expand(etaSourceTerm),etaHat)\n",
    "    DetermineNonLinearManufacturedSolutionSurfaceElevationSourceTerm_SymPyToNumPy = (\n",
    "    lambdify((etaHat,H,kX,kY,omega,x,y,t,), etaSourceTerm, modules=\"numpy\"))\n",
    "    uSourceTerm = u_t + u*u_x + v*u_y - f0*v + g*eta_x\n",
    "    uSourceTerm = uSourceTerm*(H + eta) + etaSourceTerm*u\n",
    "    uSourceTerm = sp.collect(sp.expand(uSourceTerm),etaHat)\n",
    "    DetermineNonLinearManufacturedSolutionZonalVelocitySourceTerm_SymPyToNumPy = (\n",
    "    lambdify((etaHat,f0,g,kX,kY,omega,x,y,t,), uSourceTerm, modules=\"numpy\"))\n",
    "    vSourceTerm = v_t + u*v_x + v*v_y + f0*u + g*eta_y\n",
    "    vSourceTerm = vSourceTerm*(H + eta) + etaSourceTerm*v\n",
    "    vSourceTerm = sp.collect(sp.expand(vSourceTerm),etaHat)\n",
    "    DetermineNonLinearManufacturedSolutionMeridionalVelocitySourceTerm_SymPyToNumPy = (\n",
    "    lambdify((etaHat,f0,g,kX,kY,omega,x,y,t,), vSourceTerm, modules=\"numpy\"))\n",
    "    return [DetermineNonLinearManufacturedSolutionExactSurfaceElevation_SymPyToNumPy,\n",
    "            DetermineNonLinearManufacturedSolutionExactZonalVelocity_SymPyToNumPy,\n",
    "            DetermineNonLinearManufacturedSolutionSurfaceElevationSourceTerm_SymPyToNumPy,\n",
    "            DetermineNonLinearManufacturedSolutionZonalVelocitySourceTerm_SymPyToNumPy]"
   ]
  },
  {
   "cell_type": "code",
   "execution_count": 3,
   "id": "32bfe1ee",
   "metadata": {},
   "outputs": [],
   "source": [
    "[DetermineNonLinearManufacturedSolutionExactSurfaceElevation_SymPyToNumPy,\n",
    " DetermineNonLinearManufacturedSolutionExactZonalVelocity_SymPyToNumPy,\n",
    " DetermineNonLinearManufacturedSolutionSurfaceElevationSourceTerm_SymPyToNumPy,\n",
    " DetermineNonLinearManufacturedSolutionZonalVelocitySourceTerm_SymPyToNumPy] = (\n",
    "DetermineNonLinearManufacturedSolutionExactStateVariables())"
   ]
  },
  {
   "cell_type": "code",
   "execution_count": 4,
   "id": "1298006c",
   "metadata": {},
   "outputs": [],
   "source": [
    "def VerifyCompactFormOfNonLinearManufacturedSolutionExactStateVariables():\n",
    "    half = sp.Rational('1/2')\n",
    "    angleEdge, etaHat, f0, g, H, kX, kY, omega, t, u, x, y = (\n",
    "    sp.symbols('angleEdge, etaHat, f0, g, H, kX, kY, omega, t, u, x, y'))\n",
    "    phase = kX*x + kY*y - omega*t\n",
    "    etaSourceTerm = (-etaHat*omega*sp.cos(kX*x + kY*y - omega*t) \n",
    "                     + (-etaHat**2*kX - etaHat**2*kY)*sp.sin(kX*x + kY*y - omega*t)**2 \n",
    "                     + (etaHat**2*kX + etaHat**2*kY)*sp.cos(kX*x + kY*y - omega*t)**2 \n",
    "                     + (-H*etaHat*kX - H*etaHat*kY)*sp.sin(kX*x + kY*y - omega*t))\n",
    "    etaSourceTerm_CompactForm = etaHat**2*((kX + kY)*sp.cos(2*phase)) - etaHat*((kX + kY)*H*sp.sin(phase) \n",
    "                                                                                + omega*sp.cos(phase))\n",
    "    print('etaSourceTerm - etaSourceTerm_CompactForm is %s.' %sp.simplify(etaSourceTerm - etaSourceTerm_CompactForm))\n",
    "    uSourceTerm_1 = etaHat*(-H*f0*sp.cos(kX*x + kY*y - omega*t) + H*g*kX*sp.cos(kX*x + kY*y - omega*t) \n",
    "                            + H*omega*sp.sin(kX*x + kY*y - omega*t))\n",
    "    uSourceTerm_2 = etaHat**2*(-2*H*kX*sp.sin(kX*x + kY*y - omega*t)*sp.cos(kX*x + kY*y - omega*t) \n",
    "                               - 2*H*kY*sp.sin(kX*x + kY*y - omega*t)*sp.cos(kX*x + kY*y - omega*t) \n",
    "                               - f0*sp.sin(kX*x + kY*y - omega*t)*sp.cos(kX*x + kY*y - omega*t) \n",
    "                               + g*kX*sp.sin(kX*x + kY*y - omega*t)*sp.cos(kX*x + kY*y - omega*t) \n",
    "                               + omega*sp.sin(kX*x + kY*y - omega*t)**2 - omega*sp.cos(kX*x + kY*y - omega*t)**2)\n",
    "    uSourceTerm_3 = etaHat**3*(-2*kX*sp.sin(kX*x + kY*y - omega*t)**2*sp.cos(kX*x + kY*y - omega*t) \n",
    "                               + kX*sp.cos(kX*x + kY*y - omega*t)**3 \n",
    "                               - 2*kY*sp.sin(kX*x + kY*y - omega*t)**2*sp.cos(kX*x + kY*y - omega*t) \n",
    "                               + kY*sp.cos(kX*x + kY*y - omega*t)**3)\n",
    "    uSourceTerm = uSourceTerm_1 + uSourceTerm_2 + uSourceTerm_3\n",
    "    uSourceTerm_CompactForm_1 = etaHat*H*((g*kX - f0)*sp.cos(phase) + omega*sp.sin(phase))\n",
    "    uSourceTerm_CompactForm_2 = etaHat**2*(sp.sin(2*phase)*(-H*(kX + kY) + half*(g*kX - f0)) - omega*sp.cos(2*phase))\n",
    "    uSourceTerm_CompactForm_3 = etaHat**3*(kX + kY)*(-sp.sin(2*phase)*sp.sin(phase) + (sp.cos(phase))**3)\n",
    "    uSourceTerm_CompactForm = uSourceTerm_CompactForm_1 + uSourceTerm_CompactForm_2 + uSourceTerm_CompactForm_3\n",
    "    uSourceTermDifference_1 = sp.simplify(uSourceTerm_1 - uSourceTerm_CompactForm_1)\n",
    "    uSourceTermDifference_2 = sp.simplify(uSourceTerm_2 - uSourceTerm_CompactForm_2)\n",
    "    uSourceTermDifference_3 = sp.simplify(uSourceTerm_3 - uSourceTerm_CompactForm_3)\n",
    "    uSourceTermDifference = uSourceTermDifference_1 + uSourceTermDifference_2 + uSourceTermDifference_3\n",
    "    print('uSourceTerm - uSourceTerm_CompactForm is %s.' %uSourceTermDifference)\n",
    "    vSourceTerm_1 = etaHat*(H*f0*sp.cos(kX*x + kY*y - omega*t) + H*g*kY*sp.cos(kX*x + kY*y - omega*t) \n",
    "                            + H*omega*sp.sin(kX*x + kY*y - omega*t))\n",
    "    vSourceTerm_2 = etaHat**2*(-2*H*kX*sp.sin(kX*x + kY*y - omega*t)*sp.cos(kX*x + kY*y - omega*t) \n",
    "                               - 2*H*kY*sp.sin(kX*x + kY*y - omega*t)*sp.cos(kX*x + kY*y - omega*t) \n",
    "                               + f0*sp.sin(kX*x + kY*y - omega*t)*sp.cos(kX*x + kY*y - omega*t) \n",
    "                               + g*kY*sp.sin(kX*x + kY*y - omega*t)*sp.cos(kX*x + kY*y - omega*t) \n",
    "                               + omega*sp.sin(kX*x + kY*y - omega*t)**2 - omega*sp.cos(kX*x + kY*y - omega*t)**2)\n",
    "    vSourceTerm_3 = etaHat**3*(-2*kX*sp.sin(kX*x + kY*y - omega*t)**2*sp.cos(kX*x + kY*y - omega*t) \n",
    "                               + kX*sp.cos(kX*x + kY*y - omega*t)**3 \n",
    "                               - 2*kY*sp.sin(kX*x + kY*y - omega*t)**2*sp.cos(kX*x + kY*y - omega*t) \n",
    "                               + kY*sp.cos(kX*x + kY*y - omega*t)**3)\n",
    "    vSourceTerm = vSourceTerm_1 + vSourceTerm_2 + vSourceTerm_3\n",
    "    vSourceTerm_CompactForm_1 = etaHat*H*((g*kY + f0)*sp.cos(phase) + omega*sp.sin(phase))\n",
    "    vSourceTerm_CompactForm_2 = etaHat**2*(sp.sin(2*phase)*(-H*(kX + kY) + half*(g*kY + f0)) - omega*sp.cos(2*phase))\n",
    "    vSourceTerm_CompactForm_3 = etaHat**3*(kX + kY)*(-sp.sin(2*phase)*sp.sin(phase) + (sp.cos(phase))**3)\n",
    "    vSourceTerm_CompactForm = vSourceTerm_CompactForm_1 + vSourceTerm_CompactForm_2 + vSourceTerm_CompactForm_3\n",
    "    vSourceTermDifference_1 = sp.simplify(vSourceTerm_1 - vSourceTerm_CompactForm_1)\n",
    "    vSourceTermDifference_2 = sp.simplify(vSourceTerm_2 - vSourceTerm_CompactForm_2)\n",
    "    vSourceTermDifference_3 = sp.simplify(vSourceTerm_3 - vSourceTerm_CompactForm_3)\n",
    "    vSourceTermDifference = vSourceTermDifference_1 + vSourceTermDifference_2 + vSourceTermDifference_3\n",
    "    print('vSourceTerm - vSourceTerm_CompactForm is %s.' %vSourceTermDifference)"
   ]
  },
  {
   "cell_type": "code",
   "execution_count": 5,
   "id": "532538b8",
   "metadata": {},
   "outputs": [],
   "source": [
    "do_VerifyCompactFormOfNonLinearManufacturedSolutionExactStateVariables = False\n",
    "if do_VerifyCompactFormOfNonLinearManufacturedSolutionExactStateVariables:\n",
    "    VerifyCompactFormOfNonLinearManufacturedSolutionExactStateVariables()"
   ]
  },
  {
   "cell_type": "code",
   "execution_count": 6,
   "id": "df3c7040",
   "metadata": {},
   "outputs": [],
   "source": [
    "def DetermineNonLinearManufacturedSolutionExactSurfaceElevation(etaHat,kX,kY,omega,x,y,time):\n",
    "    eta = etaHat*np.sin(kX*x + kY*y - omega*time)\n",
    "    return eta"
   ]
  },
  {
   "cell_type": "code",
   "execution_count": 7,
   "id": "d43be8cf",
   "metadata": {},
   "outputs": [],
   "source": [
    "def DetermineNonLinearManufacturedSolutionExactZonalVelocity(etaHat,kX,kY,omega,x,y,time):\n",
    "    u = etaHat*np.cos(kX*x + kY*y - omega*time)\n",
    "    return u"
   ]
  },
  {
   "cell_type": "code",
   "execution_count": 8,
   "id": "af703b28",
   "metadata": {},
   "outputs": [],
   "source": [
    "def DetermineNonLinearManufacturedSolutionExactMeridionalVelocity(etaHat,kX,kY,omega,x,y,time):\n",
    "    v = etaHat*np.cos(kX*x + kY*y - omega*time)\n",
    "    return v"
   ]
  },
  {
   "cell_type": "code",
   "execution_count": 9,
   "id": "ce5adbf7",
   "metadata": {},
   "outputs": [],
   "source": [
    "def DetermineNonLinearManufacturedSolutionSurfaceElevationSourceTerm(etaHat,H,kX,kY,omega,x,y,time):\n",
    "    phase = kX*x + kY*y - omega*time\n",
    "    etaSourceTerm = etaHat**2.0*((kX + kY)*np.cos(2.0*phase)) - etaHat*((kX + kY)*H*np.sin(phase) + omega*np.cos(phase))\n",
    "    return etaSourceTerm"
   ]
  },
  {
   "cell_type": "code",
   "execution_count": 10,
   "id": "429e165e",
   "metadata": {},
   "outputs": [],
   "source": [
    "def DetermineNonLinearManufacturedSolutionZonalVelocitySourceTerm(etaHat,f0,g,kX,kY,omega,x,y,time):\n",
    "    phase = kX*x + kY*y - omega*time\n",
    "    uSourceTerm = (etaHat*H*((g*kX - f0)*np.cos(phase) + omega*np.sin(phase)) \n",
    "                   + etaHat**2.0*(np.sin(2.0*phase)*(-H*(kX + kY) + 0.5*(g*kX - f0)) - omega*np.cos(2.0*phase)) \n",
    "                   + etaHat**3.0*(kX + kY)*(-np.sin(2.0*phase)*np.sin(phase) + (np.cos(phase))**3.0))\n",
    "    return uSourceTerm"
   ]
  },
  {
   "cell_type": "code",
   "execution_count": 11,
   "id": "3a539938",
   "metadata": {},
   "outputs": [],
   "source": [
    "def DetermineNonLinearManufacturedSolutionMeridionalVelocitySourceTerm(etaHat,f0,g,kX,kY,omega,x,y,time):\n",
    "    phase = kX*x + kY*y - omega*time\n",
    "    vSourceTerm = (etaHat*H*((g*kY + f0)*np.cos(phase) + omega*np.sin(phase))\n",
    "                   + etaHat**2.0*(np.sin(2.0*phase)*(-H*(kX + kY) + 0.5*(g*kY + f0)) - omega*np.cos(2.0*phase))\n",
    "                   + etaHat**3.0*(kX + kY)*(-np.sin(2.0*phase)*np.sin(phase) + (np.cos(phase))**3.0))\n",
    "    return vSourceTerm"
   ]
  }
 ],
 "metadata": {
  "kernelspec": {
   "display_name": "Python 3",
   "language": "python",
   "name": "python3"
  },
  "language_info": {
   "codemirror_mode": {
    "name": "ipython",
    "version": 3
   },
   "file_extension": ".py",
   "mimetype": "text/x-python",
   "name": "python",
   "nbconvert_exporter": "python",
   "pygments_lexer": "ipython3",
   "version": "3.9.4"
  }
 },
 "nbformat": 4,
 "nbformat_minor": 5
}
