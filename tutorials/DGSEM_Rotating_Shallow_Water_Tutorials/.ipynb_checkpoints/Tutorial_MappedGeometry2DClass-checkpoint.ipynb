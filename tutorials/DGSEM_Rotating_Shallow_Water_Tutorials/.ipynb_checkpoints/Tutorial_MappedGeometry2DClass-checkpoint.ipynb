{
 "cells": [
  {
   "cell_type": "markdown",
   "id": "09ef3a7a",
   "metadata": {},
   "source": [
    "Name: Tutorial_MappedGeometry2DClass.ipynb <br/>\n",
    "Author: Sid Bishnu <br/>\n",
    "Details: This Jupyter Notebook is an exact replica of ../../tests/DGSEM_Rotating_Shallow_Water_Tests/Test_MappedGeometry2DClass.py as it walks the user through testing the two-dimensional mapped geometry class defined in ../../src/DGSEM_Rotating_Shallow_Water/MappedGeometry2DClass.py."
   ]
  },
  {
   "cell_type": "code",
   "execution_count": 1,
   "id": "a84e73e8",
   "metadata": {},
   "outputs": [],
   "source": [
    "import numpy as np\n",
    "import os\n",
    "import sys\n",
    "sys.path.append(os.path.realpath('../..') + '/src/DGSEM_Rotating_Shallow_Water/')\n",
    "from IPython.utils import io\n",
    "with io.capture_output() as captured:\n",
    "    import DGNodalStorage2DClass as DGNS2D\n",
    "    import GeometryBasics2DClass as GB2D\n",
    "    import MappedGeometry2DClass as MG2D"
   ]
  },
  {
   "cell_type": "code",
   "execution_count": 2,
   "id": "ca794bf8",
   "metadata": {},
   "outputs": [],
   "source": [
    "def TestMappedGeometry2D():\n",
    "    nXi = 14\n",
    "    nEta = 14\n",
    "    myDGNodalStorage2D = DGNS2D.DGNodalStorage2D(nXi,nEta)\n",
    "    BoundaryCurve = np.empty(4,dtype=GB2D.CurveInterpolant2D)\n",
    "    BoundaryCurve[0] = GB2D.CurveInterpolant2D(np.array([-1.0,1.0]),np.array([0.0,1.0]),np.array([0.0,0.0]))\n",
    "    BoundaryCurve[1] = GB2D.CurveInterpolant2D(np.array([-1.0,1.0]),np.array([1.0,1.0]),np.array([0.0,1.0]))\n",
    "    BoundaryCurve[2] = GB2D.CurveInterpolant2D(np.array([-1.0,1.0]),np.array([0.0,1.0]),np.array([1.0,1.0]))\n",
    "    BoundaryCurve[3] = GB2D.CurveInterpolant2D(np.array([-1.0,1.0]),np.array([0.0,0.0]),np.array([0.0,1.0]))\n",
    "    # Note that the boundary curves should always be parameterized in the increasing directions of xi and eta.\n",
    "    myMappedGeometry2D = MG2D.MappedGeometry2D(myDGNodalStorage2D,BoundaryCurve)\n",
    "    myMappedGeometry2D = MG2D.MappedGeometry2D.ConstructEmptyMappedGeometry2D(myDGNodalStorage2D,nXi,nEta)\n",
    "\n",
    "do_TestMappedGeometry2D = False\n",
    "if do_TestMappedGeometry2D:\n",
    "    TestMappedGeometry2D()"
   ]
  }
 ],
 "metadata": {
  "kernelspec": {
   "display_name": "Python 3",
   "language": "python",
   "name": "python3"
  },
  "language_info": {
   "codemirror_mode": {
    "name": "ipython",
    "version": 3
   },
   "file_extension": ".py",
   "mimetype": "text/x-python",
   "name": "python",
   "nbconvert_exporter": "python",
   "pygments_lexer": "ipython3",
   "version": "3.9.4"
  }
 },
 "nbformat": 4,
 "nbformat_minor": 5
}
