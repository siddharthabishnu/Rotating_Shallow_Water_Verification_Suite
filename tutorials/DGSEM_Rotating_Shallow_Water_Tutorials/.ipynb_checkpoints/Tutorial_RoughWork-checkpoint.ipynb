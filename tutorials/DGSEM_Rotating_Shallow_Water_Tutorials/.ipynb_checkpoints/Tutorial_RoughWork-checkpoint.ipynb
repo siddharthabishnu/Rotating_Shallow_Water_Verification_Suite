{
 "cells": [
  {
   "cell_type": "code",
   "execution_count": 1,
   "id": "f59d7af9",
   "metadata": {},
   "outputs": [],
   "source": [
    "import numpy as np"
   ]
  },
  {
   "cell_type": "code",
   "execution_count": 2,
   "id": "06fc7fd3",
   "metadata": {},
   "outputs": [
    {
     "name": "stdout",
     "output_type": "stream",
     "text": [
      "[0. 0. 0.]\n",
      "[1. 1. 1. 1.]\n",
      "[2. 2. 2. 2. 2.]\n",
      "[array([0., 0., 0.]), array([1., 1., 1., 1.])]\n",
      "[0. 0. 0.]\n",
      "[1. 1. 1. 1.]\n",
      "[array([0., 0., 0.]), array([1., 1., 1., 1.]), array([2., 2., 2., 2., 2.]), array([4., 4., 4., 4., 4.])]\n",
      "['a\\nX', 'b\\nX', 'c\\nX', 'd\\nX']\n"
     ]
    }
   ],
   "source": [
    "def RW10():\n",
    "    x1 = np.zeros(3)\n",
    "    x2 = np.ones(4)\n",
    "    x3 = 2.0*np.ones(5)\n",
    "    x = []\n",
    "    x.append(x1)\n",
    "    x.append(x2)\n",
    "    print(x1)\n",
    "    print(x2)\n",
    "    print(x3)\n",
    "    print(x)\n",
    "    print(x[0])\n",
    "    print(x[1])\n",
    "    x.extend([x3,2.0*x3])\n",
    "    print(x)\n",
    "    titles = []\n",
    "    titles.extend(['a','b','c','d'])\n",
    "    for i in range(0,len(titles)):\n",
    "        titles[i] += '\\nX'\n",
    "    print(titles)\n",
    "    \n",
    "RW10()"
   ]
  },
  {
   "cell_type": "code",
   "execution_count": 3,
   "id": "6790a298",
   "metadata": {},
   "outputs": [
    {
     "name": "stdout",
     "output_type": "stream",
     "text": [
      "2.0 2.0\n"
     ]
    }
   ],
   "source": [
    "def RW9():\n",
    "    x = np.ones(5)\n",
    "    x[2] = 2.0\n",
    "    print(max(x),np.max(x))\n",
    "    \n",
    "RW9()"
   ]
  },
  {
   "cell_type": "code",
   "execution_count": 4,
   "id": "c22c90aa",
   "metadata": {},
   "outputs": [
    {
     "name": "stdout",
     "output_type": "stream",
     "text": [
      "ab3\n"
     ]
    }
   ],
   "source": [
    "def RW8():\n",
    "    x = 'AB3'\n",
    "    print(x.lower())\n",
    "    \n",
    "RW8()"
   ]
  },
  {
   "cell_type": "code",
   "execution_count": 5,
   "id": "39b636c8",
   "metadata": {},
   "outputs": [
    {
     "name": "stdout",
     "output_type": "stream",
     "text": [
      "[[2. 1. 1. 1.]\n",
      " [1. 3. 1. 1.]\n",
      " [1. 1. 1. 1.]]\n",
      "[[7. 6. 6. 6.]\n",
      " [6. 8. 6. 6.]\n",
      " [6. 6. 6. 6.]]\n"
     ]
    }
   ],
   "source": [
    "def RW7():\n",
    "    x = np.ones((3,4))\n",
    "    x[0,0] = 2.0\n",
    "    x[1,1] = 3.0\n",
    "    print(x)\n",
    "    y = x + 5\n",
    "    print(y)\n",
    "    \n",
    "RW7()"
   ]
  },
  {
   "cell_type": "code",
   "execution_count": 6,
   "id": "7086ca53",
   "metadata": {},
   "outputs": [
    {
     "name": "stdout",
     "output_type": "stream",
     "text": [
      "-1.0\n"
     ]
    }
   ],
   "source": [
    "def RW6():\n",
    "    x = np.zeros((2,3))\n",
    "    x[0,0] = -1.0\n",
    "    print(np.min(x))\n",
    "    \n",
    "RW6()"
   ]
  },
  {
   "cell_type": "code",
   "execution_count": 7,
   "id": "82e53ac2",
   "metadata": {},
   "outputs": [
    {
     "name": "stdout",
     "output_type": "stream",
     "text": [
      "matplotlib: 3.3.4\n"
     ]
    }
   ],
   "source": [
    "def RW5():\n",
    "    import matplotlib\n",
    "    print('matplotlib: {}'.format(matplotlib.__version__))\n",
    "    \n",
    "RW5()"
   ]
  },
  {
   "cell_type": "code",
   "execution_count": 8,
   "id": "b618968a",
   "metadata": {},
   "outputs": [],
   "source": [
    "class DGSolution:\n",
    "    \n",
    "    def __init__(myDGSolution):\n",
    "        myDGSolution.Tendencies = np.zeros((3,3))"
   ]
  },
  {
   "cell_type": "code",
   "execution_count": 9,
   "id": "9caf473b",
   "metadata": {},
   "outputs": [
    {
     "name": "stdout",
     "output_type": "stream",
     "text": [
      "0 0 0 0.0 0.0\n",
      "0 0 1 1.0 0.0\n",
      "0 0 2 2.0 0.0\n",
      "0 1 0 1.0 0.0\n",
      "0 1 1 2.0 0.0\n",
      "0 1 2 3.0 0.0\n",
      "0 2 0 2.0 0.0\n",
      "0 2 1 3.0 0.0\n",
      "0 2 2 4.0 0.0\n",
      "1 0 0 1.0 0.0\n",
      "1 0 1 2.0 0.0\n",
      "1 0 2 3.0 0.0\n",
      "1 1 0 2.0 0.0\n",
      "1 1 1 3.0 0.0\n",
      "1 1 2 4.0 0.0\n",
      "1 2 0 3.0 0.0\n",
      "1 2 1 4.0 0.0\n",
      "1 2 2 5.0 0.0\n",
      "0 0 0 0.0 0.0\n",
      "0 0 1 1.0 1.0\n",
      "0 0 2 2.0 2.0\n",
      "0 1 0 1.0 1.0\n",
      "0 1 1 2.0 2.0\n",
      "0 1 2 3.0 3.0\n",
      "0 2 0 2.0 2.0\n",
      "0 2 1 3.0 3.0\n",
      "0 2 2 4.0 4.0\n",
      "1 0 0 1.0 1.0\n",
      "1 0 1 2.0 2.0\n",
      "1 0 2 3.0 3.0\n",
      "1 1 0 2.0 2.0\n",
      "1 1 1 3.0 3.0\n",
      "1 1 2 4.0 4.0\n",
      "1 2 0 3.0 3.0\n",
      "1 2 1 4.0 4.0\n",
      "1 2 2 5.0 5.0\n"
     ]
    }
   ],
   "source": [
    "def RW4():\n",
    "    myDGSolutionArray1 = np.empty(2,dtype=DGSolution)\n",
    "    myDGSolutionArray2 = np.empty(2,dtype=DGSolution)\n",
    "    for i in range(0,2):\n",
    "        myDGSolutionArray1[i] = DGSolution()\n",
    "        myDGSolutionArray2[i] = DGSolution()\n",
    "    for i in range(0,2):\n",
    "        for j in range(0,3):\n",
    "            for k in range(0,3):\n",
    "                myDGSolutionArray1[i].Tendencies[j,k] = i + j + k\n",
    "                print(i,j,k,myDGSolutionArray1[i].Tendencies[j,k],myDGSolutionArray2[i].Tendencies[j,k])\n",
    "    for i in range(0,2):\n",
    "        myDGSolutionArray2[i].Tendencies[:,:] = myDGSolutionArray1[i].Tendencies[:,:]\n",
    "    for i in range(0,2):\n",
    "        for j in range(0,3):\n",
    "            for k in range(0,3):\n",
    "                print(i,j,k,myDGSolutionArray1[i].Tendencies[j,k],myDGSolutionArray2[i].Tendencies[j,k])\n",
    "                \n",
    "RW4()"
   ]
  },
  {
   "cell_type": "code",
   "execution_count": 10,
   "id": "16513908",
   "metadata": {},
   "outputs": [
    {
     "name": "stdout",
     "output_type": "stream",
     "text": [
      "0 0 0 0 0\n",
      "0 0 1 1 1\n",
      "0 0 2 2 2\n",
      "0 0 3 3 3\n",
      "0 1 0 4 4\n",
      "0 1 1 5 5\n",
      "0 1 2 6 6\n",
      "0 1 3 7 7\n",
      "0 2 0 8 8\n",
      "0 2 1 9 9\n",
      "0 2 2 10 10\n",
      "0 2 3 11 11\n",
      "1 0 0 12 12\n",
      "1 0 1 13 13\n",
      "1 0 2 14 14\n",
      "1 0 3 15 15\n",
      "1 1 0 16 16\n",
      "1 1 1 17 17\n",
      "1 1 2 18 18\n",
      "1 1 3 19 19\n",
      "1 2 0 20 20\n",
      "1 2 1 21 21\n",
      "1 2 2 22 22\n",
      "1 2 3 23 23\n",
      "2 0 0 24 24\n",
      "2 0 1 25 25\n",
      "2 0 2 26 26\n",
      "2 0 3 27 27\n",
      "2 1 0 28 28\n",
      "2 1 1 29 29\n",
      "2 1 2 30 30\n",
      "2 1 3 31 31\n",
      "2 2 0 32 32\n",
      "2 2 1 33 33\n",
      "2 2 2 34 34\n",
      "2 2 3 35 35\n",
      "3 0 0 36 36\n",
      "3 0 1 37 37\n",
      "3 0 2 38 38\n",
      "3 0 3 39 39\n",
      "3 1 0 40 40\n",
      "3 1 1 41 41\n",
      "3 1 2 42 42\n",
      "3 1 3 43 43\n",
      "3 2 0 44 44\n",
      "3 2 1 45 45\n",
      "3 2 2 46 46\n",
      "3 2 3 47 47\n"
     ]
    }
   ],
   "source": [
    "def RW3():\n",
    "    nElements = 4\n",
    "    nXiPlot = 3\n",
    "    nEtaPlot = 2\n",
    "    i = -1\n",
    "    for iElement in range(0,nElements):\n",
    "        for iEtaPlot in range(0,nEtaPlot+1):\n",
    "            for iXiPlot in range(0,nXiPlot+1):\n",
    "                i += 1\n",
    "                j = iElement*(nXiPlot+1)*(nEtaPlot+1) + iEtaPlot*(nXiPlot+1) + iXiPlot\n",
    "                print(iElement,iEtaPlot,iXiPlot,i,j)\n",
    "                \n",
    "RW3()"
   ]
  },
  {
   "cell_type": "code",
   "execution_count": 11,
   "id": "c31aeccd",
   "metadata": {},
   "outputs": [
    {
     "name": "stdout",
     "output_type": "stream",
     "text": [
      "3 64.0\n",
      "2 128.0\n",
      "1 256.0\n",
      "0 512.0\n"
     ]
    }
   ],
   "source": [
    "def RW2():\n",
    "    nCases = 5\n",
    "    dt = np.zeros(nCases)\n",
    "    dt[nCases-1] = 32\n",
    "    for iCase in reversed(range(0,nCases-1)):\n",
    "        dt[iCase] = dt[iCase+1]*2\n",
    "        print(iCase,dt[iCase])\n",
    "        \n",
    "RW2()"
   ]
  },
  {
   "cell_type": "code",
   "execution_count": 12,
   "id": "f3f7e90c",
   "metadata": {},
   "outputs": [
    {
     "name": "stdout",
     "output_type": "stream",
     "text": [
      "0\n",
      "1\n",
      "2\n",
      "3\n",
      "4\n",
      "5\n"
     ]
    }
   ],
   "source": [
    "def RW1():\n",
    "    n = round(5.99/1)\n",
    "    for i in range(0,n):\n",
    "        print(i)\n",
    "        \n",
    "RW1()"
   ]
  }
 ],
 "metadata": {
  "kernelspec": {
   "display_name": "Python 3",
   "language": "python",
   "name": "python3"
  },
  "language_info": {
   "codemirror_mode": {
    "name": "ipython",
    "version": 3
   },
   "file_extension": ".py",
   "mimetype": "text/x-python",
   "name": "python",
   "nbconvert_exporter": "python",
   "pygments_lexer": "ipython3",
   "version": "3.9.4"
  }
 },
 "nbformat": 4,
 "nbformat_minor": 5
}
