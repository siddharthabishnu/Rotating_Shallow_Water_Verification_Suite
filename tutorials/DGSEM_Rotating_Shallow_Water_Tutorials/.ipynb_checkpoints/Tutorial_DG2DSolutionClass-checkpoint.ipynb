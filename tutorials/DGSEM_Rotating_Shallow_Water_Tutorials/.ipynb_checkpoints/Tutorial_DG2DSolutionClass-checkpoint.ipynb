{
 "cells": [
  {
   "cell_type": "markdown",
   "id": "bb7dcef4",
   "metadata": {},
   "source": [
    "Name: Tutorial_DG2DSolutionClass.ipynb <br/>\n",
    "Author: Sid Bishnu <br/>\n",
    "Details: This Jupyter Notebook is an exact replica of ../../tests/DGSEM_Rotating_Shallow_Water_Tests/Test_DG2DSolutionClass.py as it walks the user through testing the solution class for two-dimensional discontinuous Galerkin spectral element methods defined in ../../src/DGSEM_Rotating_Shallow_Water/DGSolution2DClass.py."
   ]
  },
  {
   "cell_type": "code",
   "execution_count": 1,
   "id": "5ebc7421",
   "metadata": {},
   "outputs": [],
   "source": [
    "import os\n",
    "import sys\n",
    "sys.path.append(os.path.realpath('../..') + '/src/DGSEM_Rotating_Shallow_Water/')\n",
    "from IPython.utils import io\n",
    "with io.capture_output() as captured:\n",
    "    import DGSolution2DClass"
   ]
  },
  {
   "cell_type": "code",
   "execution_count": 2,
   "id": "02abd8e5",
   "metadata": {},
   "outputs": [],
   "source": [
    "def TestDGSolution2D():\n",
    "    nEquations = 3\n",
    "    nXi = 10\n",
    "    nEta = 10\n",
    "    TimeIntegrator = 'WilliamsonLowStorageThirdOrderRungeKuttaMethod'\n",
    "    myDGSolution2D = DGSolution2DClass.DGSolution2D(nEquations,nXi,nEta,TimeIntegrator)\n",
    "\n",
    "do_TestDGSolution2D = False\n",
    "if do_TestDGSolution2D:\n",
    "    TestDGSolution2D()"
   ]
  }
 ],
 "metadata": {
  "kernelspec": {
   "display_name": "Python 3",
   "language": "python",
   "name": "python3"
  },
  "language_info": {
   "codemirror_mode": {
    "name": "ipython",
    "version": 3
   },
   "file_extension": ".py",
   "mimetype": "text/x-python",
   "name": "python",
   "nbconvert_exporter": "python",
   "pygments_lexer": "ipython3",
   "version": "3.9.4"
  }
 },
 "nbformat": 4,
 "nbformat_minor": 5
}
