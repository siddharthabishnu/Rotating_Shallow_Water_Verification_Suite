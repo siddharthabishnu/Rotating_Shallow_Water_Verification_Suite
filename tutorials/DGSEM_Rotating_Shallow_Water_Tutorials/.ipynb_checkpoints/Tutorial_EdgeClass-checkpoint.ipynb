{
 "cells": [
  {
   "cell_type": "markdown",
   "id": "2de00c3d",
   "metadata": {},
   "source": [
    "Name: Tutorial_EdgeClass.ipynb <br/>\n",
    "Author: Sid Bishnu <br/>\n",
    "Details: This Jupyter Notebook is an exact replica of ../../tests/DGSEM_Rotating_Shallow_Water_Tests/Test_EdgeClass.py as it walks the user through testing the edge class defined in ../../src/DGSEM_Rotating_Shallow_Water/EdgeClass.py."
   ]
  },
  {
   "cell_type": "code",
   "execution_count": 1,
   "id": "ccc52b4c",
   "metadata": {},
   "outputs": [],
   "source": [
    "import os\n",
    "import sys\n",
    "sys.path.append(os.path.realpath('../..') + '/src/DGSEM_Rotating_Shallow_Water/')\n",
    "from IPython.utils import io\n",
    "with io.capture_output() as captured:\n",
    "    import EdgeClass"
   ]
  },
  {
   "cell_type": "code",
   "execution_count": 2,
   "id": "8ce2cf85",
   "metadata": {},
   "outputs": [],
   "source": [
    "def TestEdge():\n",
    "    myEdge = EdgeClass.Edge(1,[1,2],[1,2],[1,2])\n",
    "    myEdge.OverwriteEdgeProperties(1,[1,2],[1,2],[1,2])\n",
    "    \n",
    "do_TestEdge = False\n",
    "if do_TestEdge:\n",
    "    TestEdge()"
   ]
  }
 ],
 "metadata": {
  "kernelspec": {
   "display_name": "Python 3",
   "language": "python",
   "name": "python3"
  },
  "language_info": {
   "codemirror_mode": {
    "name": "ipython",
    "version": 3
   },
   "file_extension": ".py",
   "mimetype": "text/x-python",
   "name": "python",
   "nbconvert_exporter": "python",
   "pygments_lexer": "ipython3",
   "version": "3.9.4"
  }
 },
 "nbformat": 4,
 "nbformat_minor": 5
}
