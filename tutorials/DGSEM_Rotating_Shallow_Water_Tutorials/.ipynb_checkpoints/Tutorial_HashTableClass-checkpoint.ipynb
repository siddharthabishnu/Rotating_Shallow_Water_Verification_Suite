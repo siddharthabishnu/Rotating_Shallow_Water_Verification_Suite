{
 "cells": [
  {
   "cell_type": "markdown",
   "id": "c7abfa7c",
   "metadata": {},
   "source": [
    "Name: Tutorial_HashTableClass.ipynb <br/>\n",
    "Author: Sid Bishnu <br/>\n",
    "Details: This Jupyter Notebook is an exact replica of ../../tests/DGSEM_Rotating_Shallow_Water_Tests/Test_HashTableClass.py as it walks the user through testing the hash table class defined in ../../src/DGSEM_Rotating_Shallow_Water/HashTableClass.py."
   ]
  },
  {
   "cell_type": "code",
   "execution_count": 1,
   "id": "34f75890",
   "metadata": {},
   "outputs": [],
   "source": [
    "import numpy as np\n",
    "import os\n",
    "import sys\n",
    "sys.path.append(os.path.realpath('../..') + '/src/DGSEM_Rotating_Shallow_Water/')\n",
    "from IPython.utils import io\n",
    "with io.capture_output() as captured:\n",
    "    import HashTableClass as HT"
   ]
  },
  {
   "cell_type": "code",
   "execution_count": 2,
   "id": "42a0e785",
   "metadata": {},
   "outputs": [],
   "source": [
    "def TestHashTable():\n",
    "    myHashTable = HT.HashTable(2)\n",
    "    key1 = 0\n",
    "    key2 = 1\n",
    "    print('Is the linked list myHashTable.myTableData[0] empty?')\n",
    "    print(myHashTable.myTableData[key1].ListIsEmpty())\n",
    "    if not(myHashTable.ContainsKeys(key1,key2)):\n",
    "        inData = 2\n",
    "        myHashTable.AddDataForKeys(inData,key1,key2)\n",
    "        print('Printing the linked list myHashTable.myTableData[0]:')\n",
    "        myHashTable.myTableData[key1].PrintList()\n",
    "    print('Does the hash table myHashTable contain the keys 0 and 1?')\n",
    "    print(myHashTable.ContainsKeys(key1,key2))\n",
    "    print('Is the linked list myHashTable.myTableData[0] empty?')\n",
    "    print(myHashTable.myTableData[key1].ListIsEmpty())\n",
    "    print('Destructing the linked list myHashTable.myTableData[0]:')\n",
    "    myHashTable.DestructHashTable()\n",
    "    print('Does the hash table myHashTable contain the keys 0 and 1?')\n",
    "    print(myHashTable.ContainsKeys(key1,key2))\n",
    "    print('Is the linked list myHashTable.myTableData[0] empty?')\n",
    "    print(myHashTable.myTableData[key1].ListIsEmpty())\n",
    "    \n",
    "do_TestHashTable = False\n",
    "if do_TestHashTable:\n",
    "    TestHashTable()"
   ]
  }
 ],
 "metadata": {
  "kernelspec": {
   "display_name": "Python 3",
   "language": "python",
   "name": "python3"
  },
  "language_info": {
   "codemirror_mode": {
    "name": "ipython",
    "version": 3
   },
   "file_extension": ".py",
   "mimetype": "text/x-python",
   "name": "python",
   "nbconvert_exporter": "python",
   "pygments_lexer": "ipython3",
   "version": "3.9.4"
  }
 },
 "nbformat": 4,
 "nbformat_minor": 5
}
