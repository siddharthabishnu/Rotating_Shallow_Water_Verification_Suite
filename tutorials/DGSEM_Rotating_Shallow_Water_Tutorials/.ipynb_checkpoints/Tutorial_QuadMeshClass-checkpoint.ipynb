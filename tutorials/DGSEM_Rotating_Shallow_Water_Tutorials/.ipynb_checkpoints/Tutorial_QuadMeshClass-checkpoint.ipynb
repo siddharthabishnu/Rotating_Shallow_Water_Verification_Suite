{
 "cells": [
  {
   "cell_type": "markdown",
   "id": "bb7dcef4",
   "metadata": {},
   "source": [
    "Name: Tutorial_QuadMeshClass.ipynb <br/>\n",
    "Author: Sid Bishnu <br/>\n",
    "Details: This Jupyter Notebook is an exact replica of ../../tests/DGSEM_Rotating_Shallow_Water_Tests/Test_QuadMeshClass.py as it walks the user through testing the quadrilateral mesh class defined in ../../src/DGSEM_Rotating_Shallow_Water/QuadMeshClass.py."
   ]
  },
  {
   "cell_type": "code",
   "execution_count": 1,
   "id": "5ebc7421",
   "metadata": {},
   "outputs": [],
   "source": [
    "import os\n",
    "import sys\n",
    "sys.path.append(os.path.realpath('../..') + '/src/DGSEM_Rotating_Shallow_Water/')\n",
    "from IPython.utils import io\n",
    "with io.capture_output() as captured:\n",
    "    import DGNodalStorage2DClass as DGNS2D\n",
    "    import QuadMeshClass as QM"
   ]
  },
  {
   "cell_type": "code",
   "execution_count": 2,
   "id": "02abd8e5",
   "metadata": {},
   "outputs": [],
   "source": [
    "def TestQuadMesh():\n",
    "    lX = 1.0\n",
    "    lY = 1.0\n",
    "    nElementsX = 2\n",
    "    nElementsY = 2\n",
    "    nXi = 10\n",
    "    nEta = 10\n",
    "    myDGNodalStorage2D = DGNS2D.DGNodalStorage2D(nXi,nEta)\n",
    "    ProblemType = 'Coastal_Kelvin_Wave'\n",
    "    ProblemType_EquatorialWave = False\n",
    "    PrintEdgeProperties = True\n",
    "    myQuadMesh = QM.QuadMesh(lX,lY,nElementsX,nElementsY,myDGNodalStorage2D,ProblemType,ProblemType_EquatorialWave,\n",
    "                             PrintEdgeProperties)\n",
    "    print('Checking correct assignment of element IDs and element sides to the edges after specifying boundary edges!')\n",
    "    print('iEdge EdgeID NodeIDs ElementIDs ElementSides')\n",
    "    for iEdge in range(0,myQuadMesh.nEdges):\n",
    "        print('%2d %2d [%2d %2d] [%11d %11d] [%11d %11d]' \n",
    "              %(iEdge,myQuadMesh.myEdges[iEdge].EdgeID,myQuadMesh.myEdges[iEdge].NodeIDs[0],\n",
    "                myQuadMesh.myEdges[iEdge].NodeIDs[1],myQuadMesh.myEdges[iEdge].ElementIDs[0],\n",
    "                myQuadMesh.myEdges[iEdge].ElementIDs[1],myQuadMesh.myEdges[iEdge].ElementSides[0],\n",
    "                myQuadMesh.myEdges[iEdge].ElementSides[1]))\n",
    "    output_directory = '../../output/DGSEM_Rotating_Shallow_Water_Output/'\n",
    "    filename = 'myQuadMesh'\n",
    "    myQuadMesh.WriteQuadMesh(output_directory,filename)\n",
    "    \n",
    "do_TestQuadMesh = False\n",
    "if do_TestQuadMesh:\n",
    "    TestQuadMesh()"
   ]
  }
 ],
 "metadata": {
  "kernelspec": {
   "display_name": "Python 3",
   "language": "python",
   "name": "python3"
  },
  "language_info": {
   "codemirror_mode": {
    "name": "ipython",
    "version": 3
   },
   "file_extension": ".py",
   "mimetype": "text/x-python",
   "name": "python",
   "nbconvert_exporter": "python",
   "pygments_lexer": "ipython3",
   "version": "3.9.4"
  }
 },
 "nbformat": 4,
 "nbformat_minor": 5
}
