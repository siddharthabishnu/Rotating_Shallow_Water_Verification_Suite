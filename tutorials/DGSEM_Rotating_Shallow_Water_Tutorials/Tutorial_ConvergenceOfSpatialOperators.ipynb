{
 "cells": [
  {
   "cell_type": "markdown",
   "id": "d008af17",
   "metadata": {},
   "source": [
    "Name: Tutorial_ConvergenceOfSpatialOperators.ipynb <br/>\n",
    "Author: Sid Bishnu <br/>\n",
    "Details: This Jupyter Notebook is an exact replica of ../../tests/DGSEM_Rotating_Shallow_Water/Test_ConvergenceOfSpatialOperators.py as it walks the user through testing the various functions of ../../src/DGSEM_Rotating_Shallow_Water/ConvergenceOfSpatialOperators.py."
   ]
  },
  {
   "cell_type": "code",
   "execution_count": 1,
   "id": "69e3f682",
   "metadata": {},
   "outputs": [],
   "source": [
    "import os\n",
    "import sys\n",
    "sys.path.append(os.path.realpath('../..') + '/src/DGSEM_Rotating_Shallow_Water/')\n",
    "from IPython.utils import io\n",
    "with io.capture_output() as captured:\n",
    "    import ConvergenceOfSpatialOperators as COSO"
   ]
  },
  {
   "cell_type": "code",
   "execution_count": 2,
   "id": "c17273ff",
   "metadata": {},
   "outputs": [],
   "source": [
    "def TestConvergenceStudyOfSpatialOperators():\n",
    "    WriteState = True\n",
    "    COSO.ConvergenceStudyOfSpatialOperators(WriteState)\n",
    "    PlotAgainstNumberOfCellsInZonalDirection = True\n",
    "    UseBestFitLine = True\n",
    "    set_xticks_manually = False\n",
    "    COSO.PlotConvergenceDataOfSpatialOperators(PlotAgainstNumberOfCellsInZonalDirection,UseBestFitLine,\n",
    "                                               set_xticks_manually)\n",
    "    \n",
    "do_TestConvergenceStudyOfSpatialOperators = False\n",
    "if do_TestConvergenceStudyOfSpatialOperators:\n",
    "    TestConvergenceStudyOfSpatialOperators()"
   ]
  }
 ],
 "metadata": {
  "kernelspec": {
   "display_name": "Python 3",
   "language": "python",
   "name": "python3"
  },
  "language_info": {
   "codemirror_mode": {
    "name": "ipython",
    "version": 3
   },
   "file_extension": ".py",
   "mimetype": "text/x-python",
   "name": "python",
   "nbconvert_exporter": "python",
   "pygments_lexer": "ipython3",
   "version": "3.9.4"
  }
 },
 "nbformat": 4,
 "nbformat_minor": 5
}
