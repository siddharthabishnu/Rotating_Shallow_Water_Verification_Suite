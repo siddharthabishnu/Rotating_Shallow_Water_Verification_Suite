{
 "cells": [
  {
   "cell_type": "markdown",
   "id": "6fa4e28b",
   "metadata": {},
   "source": [
    "Name: Tutorial_CornerNode2DClass.ipynb <br/>\n",
    "Author: Sid Bishnu <br/>\n",
    "Details: This Jupyter Notebook is an exact replica of ../../tests/DGSEM_Rotating_Shallow_Water_Tests/Test_CornerNode2DClass.py as it walks the user through testing the corner node class defined in ../../src/DGSEM_Rotating_Shallow_Water/CornerNode2DClass.py."
   ]
  },
  {
   "cell_type": "code",
   "execution_count": 1,
   "id": "16eb288c",
   "metadata": {},
   "outputs": [],
   "source": [
    "import os\n",
    "import sys\n",
    "sys.path.append(os.path.realpath('../..') + '/src/DGSEM_Rotating_Shallow_Water/')\n",
    "from IPython.utils import io\n",
    "with io.capture_output() as captured:\n",
    "    import CornerNode2DClass"
   ]
  },
  {
   "cell_type": "code",
   "execution_count": 2,
   "id": "5fac6330",
   "metadata": {},
   "outputs": [],
   "source": [
    "def TestCornerNode():\n",
    "    myCornerNode = CornerNode2DClass.CornerNode(1.0,1.0)\n",
    "    myCornerNode.ConstructEmptyCornerNode2D()\n",
    "    \n",
    "do_TestCornerNode = False\n",
    "if do_TestCornerNode:\n",
    "    TestCornerNode()"
   ]
  }
 ],
 "metadata": {
  "kernelspec": {
   "display_name": "Python 3",
   "language": "python",
   "name": "python3"
  },
  "language_info": {
   "codemirror_mode": {
    "name": "ipython",
    "version": 3
   },
   "file_extension": ".py",
   "mimetype": "text/x-python",
   "name": "python",
   "nbconvert_exporter": "python",
   "pygments_lexer": "ipython3",
   "version": "3.9.4"
  }
 },
 "nbformat": 4,
 "nbformat_minor": 5
}
