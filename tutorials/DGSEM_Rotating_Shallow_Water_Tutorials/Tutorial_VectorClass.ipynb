{
 "cells": [
  {
   "cell_type": "markdown",
   "id": "aa923559",
   "metadata": {},
   "source": [
    "Name: Tutorial_VectorClass.ipynb <br/>\n",
    "Author: Sid Bishnu <br/>\n",
    "Details: This Jupyter Notebook is an exact replica of ../../tests/DGSEM_Rotating_Shallow_Water_Tests/Test_VectorClass.py as it walks the user through testing the vector class defined in ../../src/DGSEM_Rotating_Shallow_Water/VectorClass.py."
   ]
  },
  {
   "cell_type": "code",
   "execution_count": 1,
   "id": "60910ce2",
   "metadata": {},
   "outputs": [],
   "source": [
    "import numpy as np\n",
    "import os\n",
    "import sys\n",
    "sys.path.append(os.path.realpath('../..') + '/src/DGSEM_Rotating_Shallow_Water/')\n",
    "from IPython.utils import io\n",
    "with io.capture_output() as captured:\n",
    "    import VectorClass"
   ]
  },
  {
   "cell_type": "code",
   "execution_count": 2,
   "id": "a418997b",
   "metadata": {},
   "outputs": [],
   "source": [
    "def TestVector():\n",
    "    print('The normalized first vector:\\n')\n",
    "    Components = np.array([3.0,4.0])\n",
    "    myVector1 = VectorClass.Vector(Components)\n",
    "    myVector1.NormalizeVector()\n",
    "    myVector1.PrintVector()\n",
    "    print('\\nThe normalized second vector:\\n')\n",
    "    Components = np.array([5.0,12.0])\n",
    "    myVector2 = VectorClass.Vector(Components)\n",
    "    myVector2.NormalizeVector()\n",
    "    myVector2.PrintVector()\n",
    "    print('\\nAdding the normalized first and second vectors and normalizing the result:\\n')\n",
    "    myVector3 = VectorClass.AddVectors(myVector1,myVector2)\n",
    "    myVector3.NormalizeVector()\n",
    "    myVector3.PrintVector()\n",
    "    myVector1_dot_myVector2 = VectorClass.DotVectors(myVector1,myVector2)\n",
    "    print('\\nThe dot product of the normalized first and second vectors is %.6f.' %myVector1_dot_myVector2)\n",
    "\n",
    "do_TestVector = False\n",
    "if do_TestVector:\n",
    "    TestVector()"
   ]
  }
 ],
 "metadata": {
  "kernelspec": {
   "display_name": "Python 3",
   "language": "python",
   "name": "python3"
  },
  "language_info": {
   "codemirror_mode": {
    "name": "ipython",
    "version": 3
   },
   "file_extension": ".py",
   "mimetype": "text/x-python",
   "name": "python",
   "nbconvert_exporter": "python",
   "pygments_lexer": "ipython3",
   "version": "3.9.4"
  }
 },
 "nbformat": 4,
 "nbformat_minor": 5
}
