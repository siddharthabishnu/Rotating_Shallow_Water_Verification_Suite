{
 "cells": [
  {
   "cell_type": "markdown",
   "id": "bb7dcef4",
   "metadata": {},
   "source": [
    "Name: Tutorial_DGSEM2DClass.ipynb <br/>\n",
    "Author: Sid Bishnu <br/>\n",
    "Details: This Jupyter Notebook is an exact replica of ../../tests/DGSEM_Rotating_Shallow_Water_Tests/Test_DGSEM2DClass.py as it walks the user through testing the two-dimensional discontinuous Galerkin spectral element class defined in ../../src/DGSEM_Rotating_Shallow_Water/DGSEM2DClass.py."
   ]
  },
  {
   "cell_type": "code",
   "execution_count": 1,
   "id": "5ebc7421",
   "metadata": {},
   "outputs": [],
   "source": [
    "import os\n",
    "import sys\n",
    "sys.path.append(os.path.realpath('../..') + '/src/DGSEM_Rotating_Shallow_Water/')\n",
    "from IPython.utils import io\n",
    "with io.capture_output() as captured:\n",
    "    import ExactSolutionsAndSourceTerms as ESST\n",
    "    import DGSEM2DClass"
   ]
  },
  {
   "cell_type": "code",
   "execution_count": 2,
   "id": "02abd8e5",
   "metadata": {},
   "outputs": [],
   "source": [
    "def TestDGSEM2D():\n",
    "    ProblemType = 'Coastal_Kelvin_Wave'\n",
    "    ProblemType_FileName = 'CoastalKelvinWave'\n",
    "    PrintPhaseSpeedOfWaveModes = True\n",
    "    PrintAmplitudesOfWaveModes = True\n",
    "    TimeIntegrator = 'WilliamsonLowStorageThirdOrderRungeKuttaMethod'\n",
    "    LF_TR_and_LF_AM3_with_FB_Feedback_Type = 'ThirdOrderAccurate_MaximumStabilityRange'\n",
    "    Generalized_FB_with_AB2_AM3_Step_Type = 'ThirdOrderAccurate_WideStabilityRange'\n",
    "    Generalized_FB_with_AB3_AM4_Step_Type = 'ThirdOrderAccurate_MaximumStabilityRange'\n",
    "    nElementsX = 5\n",
    "    nElementsY = 5\n",
    "    nXi = 10\n",
    "    nEta = 10\n",
    "    nXiPlot = 20\n",
    "    nEtaPlot = 20\n",
    "    myDGSEM2D = DGSEM2DClass.DGSEM2D(ProblemType,PrintPhaseSpeedOfWaveModes,PrintAmplitudesOfWaveModes,TimeIntegrator,\n",
    "                                     LF_TR_and_LF_AM3_with_FB_Feedback_Type,Generalized_FB_with_AB2_AM3_Step_Type,\n",
    "                                     Generalized_FB_with_AB3_AM4_Step_Type,nElementsX,nElementsY,nXi,nEta,nXiPlot,\n",
    "                                     nEtaPlot)\n",
    "    nElements = nElementsX*nElementsY\n",
    "    iTime = 0\n",
    "    time = 0.0\n",
    "    for iElement in range(0,nElements):\n",
    "        for iXi in range(0,nXi+1):\n",
    "            for iEta in range(0,nEta+1):\n",
    "                x = myDGSEM2D.myQuadMesh.myQuadElements[iElement].myMappedGeometry2D.x[iXi,iEta]\n",
    "                y = myDGSEM2D.myQuadMesh.myQuadElements[iElement].myMappedGeometry2D.y[iXi,iEta]\n",
    "                myDGSEM2D.myDGSolution2D[iElement].ExactSolutionAtInteriorNodes[0,iXi,iEta] = (\n",
    "                ESST.DetermineExactZonalVelocity(ProblemType,myDGSEM2D.myNameList.myExactSolutionParameters,x,y,time))\n",
    "                myDGSEM2D.myDGSolution2D[iElement].ExactSolutionAtInteriorNodes[1,iXi,iEta] = (\n",
    "                ESST.DetermineExactMeridionalVelocity(ProblemType,myDGSEM2D.myNameList.myExactSolutionParameters,x,y,\n",
    "                                                      time))\n",
    "                myDGSEM2D.myDGSolution2D[iElement].ExactSolutionAtInteriorNodes[2,iXi,iEta] = (\n",
    "                ESST.DetermineExactSurfaceElevation(ProblemType,myDGSEM2D.myNameList.myExactSolutionParameters,x,y,\n",
    "                                                    time))\n",
    "        myDGSEM2D.myDGSolution2D[iElement].SolutionAtInteriorNodes[:,:,:] = (\n",
    "        myDGSEM2D.myDGSolution2D[iElement].ExactSolutionAtInteriorNodes[:,:,:])\n",
    "    FileName = ProblemType_FileName + '_ExactSolution_%3.3d' %iTime\n",
    "    DGSEM2DClass.WriteInterpolatedStateDGSEM2D(myDGSEM2D,FileName)\n",
    "    FileName += '.tec'\n",
    "    DataTypes = ['Structured','Unstructured']\n",
    "    for iDataType in range(0,len(DataTypes)):\n",
    "        DataType = DataTypes[iDataType]\n",
    "        DisplayTime = '0 Second'\n",
    "        UseGivenColorBarLimits = False\n",
    "        UseInterpolatedErrorLimits = True\n",
    "        ComputeOnlyExactSolution = False\n",
    "        SpecifyDataTypeInPlotFileName = True\n",
    "        PlotNumericalSolution = True\n",
    "        DGSEM2DClass.PythonPlotStateDGSEM2D(myDGSEM2D,FileName,DataType,DisplayTime,UseGivenColorBarLimits,\n",
    "                                            UseInterpolatedErrorLimits,ComputeOnlyExactSolution,\n",
    "                                            SpecifyDataTypeInPlotFileName,PlotNumericalSolution)\n",
    "    \n",
    "do_TestDGSEM2D = False\n",
    "if do_TestDGSEM2D:\n",
    "    TestDGSEM2D()"
   ]
  }
 ],
 "metadata": {
  "kernelspec": {
   "display_name": "Python 3",
   "language": "python",
   "name": "python3"
  },
  "language_info": {
   "codemirror_mode": {
    "name": "ipython",
    "version": 3
   },
   "file_extension": ".py",
   "mimetype": "text/x-python",
   "name": "python",
   "nbconvert_exporter": "python",
   "pygments_lexer": "ipython3",
   "version": "3.9.4"
  }
 },
 "nbformat": 4,
 "nbformat_minor": 5
}
