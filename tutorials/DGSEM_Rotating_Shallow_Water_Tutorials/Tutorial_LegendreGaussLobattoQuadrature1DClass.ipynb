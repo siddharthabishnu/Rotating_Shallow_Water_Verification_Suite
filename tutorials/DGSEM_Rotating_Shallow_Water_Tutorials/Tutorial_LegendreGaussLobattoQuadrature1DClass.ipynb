{
 "cells": [
  {
   "cell_type": "markdown",
   "metadata": {},
   "source": [
    "Name: Tutorial_LegendreGaussLobattoQuadrature1DClass.ipynb <br/>\n",
    "Author: Sid Bishnu <br/>\n",
    "Details: This Jupyter Notebook is an exact replica of ../../tests/DGSEM_Rotating_Shallow_Water_Tests/Test_LegendreGaussLobattoQuadrature1DClass.py as it walks the user through testing the Legendre Gauss-Lobatto quadrature class defined in ../../src/DGSEM_Rotating_Shallow_Water/LegendreGaussLobattoQuadrature1DClass.py."
   ]
  },
  {
   "cell_type": "code",
   "execution_count": 1,
   "metadata": {},
   "outputs": [],
   "source": [
    "import numpy as np\n",
    "import os\n",
    "import sys\n",
    "sys.path.append(os.path.realpath('../..') + '/src/DGSEM_Rotating_Shallow_Water/')\n",
    "from IPython.utils import io\n",
    "with io.capture_output() as captured:\n",
    "    import CommonRoutines as CR\n",
    "    import LegendreGaussLobattoQuadrature1DClass as LGLQ1D"
   ]
  },
  {
   "cell_type": "code",
   "execution_count": 2,
   "metadata": {},
   "outputs": [],
   "source": [
    "def TestLegendreGaussLobattoQuadrature1D_PlotWeightsVsNodes(nX):\n",
    "    myLegendreGaussLobattoQuadrature1D = LGLQ1D.LegendreGaussLobattoQuadrature1D(nX,True,True)\n",
    "    OutputDirectory = '../../output/DGSEM_Rotating_Shallow_Water_Output/'\n",
    "    CR.PythonPlot1DSaveAsPDF(OutputDirectory,'regular',myLegendreGaussLobattoQuadrature1D.x,\n",
    "                             myLegendreGaussLobattoQuadrature1D.w,2.0,'-','k',True,'s',7.5,\n",
    "                             ['Legendre Gauss-Lobatto Nodes','Legendre Gauss-Lobatto Weights'],[17.5,17.5],[10.0,10.0],\n",
    "                             [15.0,15.0],'Legendre Gauss-Lobatto Weights vs Nodes',20.0,True,\n",
    "                             'LegendreGaussLobattoWeightsVsNodes',False)\n",
    "\n",
    "do_TestLegendreGaussLobattoQuadrature1D_PlotWeightsVsNodes = False\n",
    "if do_TestLegendreGaussLobattoQuadrature1D_PlotWeightsVsNodes:\n",
    "    TestLegendreGaussLobattoQuadrature1D_PlotWeightsVsNodes(nX=20)"
   ]
  },
  {
   "cell_type": "code",
   "execution_count": 3,
   "metadata": {},
   "outputs": [],
   "source": [
    "def PolynomialTestFunction(x,polynomialOrder=21):\n",
    "    function = 0.0\n",
    "    for i in range(0,polynomialOrder+1):\n",
    "        function += x**float(i)\n",
    "    return function"
   ]
  },
  {
   "cell_type": "code",
   "execution_count": 4,
   "metadata": {},
   "outputs": [],
   "source": [
    "def PolynomialTestFunctionIntegral(xLimits,polynomialOrder=21):\n",
    "    functionIntegral = 0.0\n",
    "    for i in range(0,polynomialOrder+1):\n",
    "        functionIntegral += xLimits[1]**float(i+1)/float(i+1) - xLimits[0]**float(i+1)/float(i+1)\n",
    "    return functionIntegral"
   ]
  },
  {
   "cell_type": "code",
   "execution_count": 5,
   "metadata": {},
   "outputs": [],
   "source": [
    "def TrigonometricTestFunction(x):\n",
    "    function = np.cos(np.pi*(x+1.0))\n",
    "    return function"
   ]
  },
  {
   "cell_type": "code",
   "execution_count": 6,
   "metadata": {},
   "outputs": [],
   "source": [
    "def TrigonometricTestFunctionIntegral(xLimits):\n",
    "    functionIntegral = (np.sin(np.pi*(xLimits[1]+1.0)) - np.sin(np.pi*(xLimits[0]+1.0)))/np.pi\n",
    "    return functionIntegral"
   ]
  },
  {
   "cell_type": "code",
   "execution_count": 7,
   "metadata": {},
   "outputs": [],
   "source": [
    "def ExponentialTestFunction(x):\n",
    "    function = np.exp(x)\n",
    "    return function"
   ]
  },
  {
   "cell_type": "code",
   "execution_count": 8,
   "metadata": {},
   "outputs": [],
   "source": [
    "def ExponentialTestFunctionIntegral(xLimits):\n",
    "    functionIntegral = np.exp(xLimits[1]) - np.exp(xLimits[0])\n",
    "    return functionIntegral"
   ]
  },
  {
   "cell_type": "code",
   "execution_count": 9,
   "metadata": {},
   "outputs": [],
   "source": [
    "def LogarithmicTestFunction(x,a=2.0):\n",
    "    function = np.log(x+a)\n",
    "    return function"
   ]
  },
  {
   "cell_type": "code",
   "execution_count": 10,
   "metadata": {},
   "outputs": [],
   "source": [
    "def LogarithmicTestFunctionIntegral(xLimits,a=2.0):\n",
    "    functionIntegral = (\n",
    "    ((xLimits[1]+a)*np.log(xLimits[1]+a) - xLimits[1]) - ((xLimits[0]+a)*np.log(xLimits[0]+a) - xLimits[0]))\n",
    "    return functionIntegral"
   ]
  },
  {
   "cell_type": "code",
   "execution_count": 11,
   "metadata": {},
   "outputs": [],
   "source": [
    "def TestLegendreGaussLobattoQuadrature1D_ConvergenceStudy(functionType,nXLimits):\n",
    "    if functionType == 'Polynomial':\n",
    "        TestFunction = PolynomialTestFunction\n",
    "        TestFunctionIntegral = PolynomialTestFunctionIntegral\n",
    "        Title = (\n",
    "        'Gauss-Lobatto Quadrature Errror for Polynomial Function\\nf(x) = x**21 + x**20 + ... + x**2 + x + 1')\n",
    "    elif functionType == 'Trigonometric':\n",
    "        TestFunction = TrigonometricTestFunction\n",
    "        TestFunctionIntegral = TrigonometricTestFunctionIntegral\n",
    "        Title = 'Gauss-Lobatto Quadrature Errror for Trigonometric Function\\nf(x) = cos(pi*(x+1))'\n",
    "    elif functionType == 'Exponential':\n",
    "        TestFunction = ExponentialTestFunction\n",
    "        TestFunctionIntegral = ExponentialTestFunctionIntegral    \n",
    "        Title = 'Gauss-Lobatto Quadrature Errror for Exponential Function\\nf(x) = exp(x)'\n",
    "    elif functionType == 'Logarithmic':\n",
    "        TestFunction = LogarithmicTestFunction\n",
    "        TestFunctionIntegral = LogarithmicTestFunctionIntegral\n",
    "        Title = 'Gauss-Lobatto Quadrature Errror for Logarithmic Function\\nf(x) = log(x+2.0)'\n",
    "    ExactIntegral = TestFunctionIntegral([-1.0,1.0])    \n",
    "    nXMin = nXLimits[0]\n",
    "    nXMax = nXLimits[1]\n",
    "    n_nX = nXMax - nXMin + 1\n",
    "    nX = np.linspace(nXMin,nXMax,n_nX,dtype=int)\n",
    "    NumericalIntegral = np.zeros(n_nX)\n",
    "    NumericalIntegralError = np.zeros(n_nX)\n",
    "    epsilon = np.finfo(float).eps\n",
    "    for i_nX in range(0,n_nX):\n",
    "        myLegendreGaussLobattoQuadrature1D = LGLQ1D.LegendreGaussLobattoQuadrature1D(nX[i_nX])\n",
    "        functionValues = np.zeros(nX[i_nX]+1)\n",
    "        for iX in range(0,nX[i_nX]+1):\n",
    "            functionValues[iX] = TestFunction(myLegendreGaussLobattoQuadrature1D.x[iX])\n",
    "        NumericalIntegral[i_nX] = myLegendreGaussLobattoQuadrature1D.EvaluateQuadrature(functionValues)\n",
    "        NumericalIntegralError[i_nX] = abs(NumericalIntegral[i_nX] - ExactIntegral)\n",
    "        if NumericalIntegralError[i_nX] < epsilon:\n",
    "            NumericalIntegralError[i_nX] = epsilon\n",
    "    xLabel = 'Number of Legendre Gauss Nodes'\n",
    "    yLabel = 'Legendre Gauss-Lobatto Quadrature Error'\n",
    "    FileName = 'ConvergencePlot_LegendreGaussLobattoQuadratureError_' + functionType + 'Function'\n",
    "    OutputDirectory = '../../output/DGSEM_Rotating_Shallow_Water_Output/'\n",
    "    CR.PythonPlot1DSaveAsPDF(OutputDirectory,'semi-log_y',nX+1,NumericalIntegralError,2.0,'-','k',True,'s',7.5,\n",
    "                             [xLabel,yLabel],[17.5,17.5],[10.0,10.0],[15.0,15.0],Title,20.0,True,FileName,False)"
   ]
  },
  {
   "cell_type": "code",
   "execution_count": 12,
   "metadata": {},
   "outputs": [],
   "source": [
    "do_TestLegendreGaussLobattoQuadrature1D_ConvergenceStudy = False\n",
    "if do_TestLegendreGaussLobattoQuadrature1D_ConvergenceStudy:\n",
    "    nXLimits = [2,15]\n",
    "    TestLegendreGaussLobattoQuadrature1D_ConvergenceStudy('Polynomial',nXLimits)\n",
    "    TestLegendreGaussLobattoQuadrature1D_ConvergenceStudy('Trigonometric',nXLimits)\n",
    "    TestLegendreGaussLobattoQuadrature1D_ConvergenceStudy('Exponential',nXLimits)\n",
    "    TestLegendreGaussLobattoQuadrature1D_ConvergenceStudy('Logarithmic',nXLimits)"
   ]
  }
 ],
 "metadata": {
  "kernelspec": {
   "display_name": "Python 3",
   "language": "python",
   "name": "python3"
  },
  "language_info": {
   "codemirror_mode": {
    "name": "ipython",
    "version": 3
   },
   "file_extension": ".py",
   "mimetype": "text/x-python",
   "name": "python",
   "nbconvert_exporter": "python",
   "pygments_lexer": "ipython3",
   "version": "3.9.4"
  }
 },
 "nbformat": 4,
 "nbformat_minor": 2
}
