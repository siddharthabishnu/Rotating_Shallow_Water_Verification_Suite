{
 "cells": [
  {
   "cell_type": "markdown",
   "metadata": {},
   "source": [
    "Name: MPAS_O_Mode_Forward.ipynb <br/>\n",
    "Author: Siddhartha Bishnu <br/>\n",
    "Details: This code contains routines for computing the tendencies of the progostic variables and advancing them through one timestep. <br/>"
   ]
  },
  {
   "cell_type": "code",
   "execution_count": 1,
   "metadata": {},
   "outputs": [],
   "source": [
    "import numpy as np\n",
    "import netCDF4 as nc\n",
    "from netCDF4 import Dataset\n",
    "from IPython.utils import io\n",
    "with io.capture_output() as captured:\n",
    "    import MPAS_O_Mode_Init\n",
    "    import MPAS_O_Shared"
   ]
  },
  {
   "cell_type": "code",
   "execution_count": 2,
   "metadata": {},
   "outputs": [],
   "source": [
    "def ComputeNormalVelocityTendency(myMPAS_O,normalVelocity,ssh):\n",
    "    gravity = myMPAS_O.myNamelist.config_gravity\n",
    "    qArr = np.zeros(myMPAS_O.nVertLevels)\n",
    "    CoriolisTerm = np.zeros(myMPAS_O.nVertLevels)\n",
    "    normalVelocityTendency = np.zeros((myMPAS_O.nEdges,myMPAS_O.nVertLevels))\n",
    "    compute_these_variables = np.zeros(8,dtype=bool)\n",
    "    if not(myMPAS_O.myNamelist.config_problem_is_linear):\n",
    "        compute_these_variables[0] = True # compute_layerThickness = True\n",
    "        compute_these_variables[1] = True # compute_layerThicknessEdge = True\n",
    "        compute_these_variables[3] = True # compute_divergence_kineticEnergyCell = True\n",
    "        compute_these_variables[5] = True \n",
    "        # compute_normalizedRelativeVorticityVertex_normalizedPlanetaryVorticityVertex = True\n",
    "        compute_these_variables[6] = True \n",
    "        # compute_normalizedRelativeVorticityEdge_normalizedPlanetaryVorticityEdge = True\n",
    "        MPAS_O_Shared.ocn_diagnostic_solve(myMPAS_O,normalVelocity,ssh,compute_these_variables)\n",
    "    LPF = myMPAS_O.myNamelist.config_linearity_prefactor\n",
    "    for iEdge in range(0,myMPAS_O.nEdges):\n",
    "        if myMPAS_O.boundaryEdge[iEdge] == 0.0: # i.e. if the edge is an interior one\n",
    "            cellID1 = myMPAS_O.cellsOnEdge[iEdge,0]\n",
    "            cell1 = cellID1 - 1\n",
    "            cellID2 = myMPAS_O.cellsOnEdge[iEdge,1]\n",
    "            cell2 = cellID2 - 1\n",
    "            invLength = 1.0/myMPAS_O.dcEdge[iEdge]\n",
    "            for k in range(0,myMPAS_O.maxLevelEdgeTop[iEdge]+1):\n",
    "                qArr[k] = 0.0\n",
    "                CoriolisTerm[k] = 0.0\n",
    "            for j in range(0,myMPAS_O.nEdgesOnEdge[iEdge]):\n",
    "                eoeID = myMPAS_O.edgesOnEdge[iEdge,j]\n",
    "                eoe = eoeID - 1\n",
    "                edgeWeight = myMPAS_O.weightsOnEdge[iEdge,j]\n",
    "                for k in range(0,myMPAS_O.maxLevelEdgeTop[iEdge]+1):\n",
    "                    if not(myMPAS_O.myNamelist.config_problem_is_linear):\n",
    "                        workVorticity = 0.5*(myMPAS_O.normalizedRelativeVorticityEdge[iEdge,k] \n",
    "                                             + myMPAS_O.normalizedRelativeVorticityEdge[eoe,k])\n",
    "                        qArr[k] += (edgeWeight*normalVelocity[eoe,k]*workVorticity\n",
    "                                    *myMPAS_O.layerThicknessEdge[eoe,k])\n",
    "                    CoriolisTerm[k] += edgeWeight*normalVelocity[eoe,k]*myMPAS_O.fEdge[eoe]\n",
    "            for k in range(0,myMPAS_O.maxLevelEdgeTop[iEdge]+1):\n",
    "                normalVelocityTendency[iEdge,k] = (myMPAS_O.edgeMask[iEdge,k]\n",
    "                                                   *(CoriolisTerm[k] \n",
    "                                                     - gravity*(ssh[cell2] - ssh[cell1])/myMPAS_O.dcEdge[iEdge] \n",
    "                                                     + LPF*(qArr[k] \n",
    "                                                            - (myMPAS_O.kineticEnergyCell[cell2,k]\n",
    "                                                               - myMPAS_O.kineticEnergyCell[cell1,k])*invLength)))\n",
    "    return normalVelocityTendency"
   ]
  },
  {
   "cell_type": "code",
   "execution_count": 3,
   "metadata": {},
   "outputs": [],
   "source": [
    "test_ComputeNormalVelocityTendency_1 = False\n",
    "if test_ComputeNormalVelocityTendency_1:\n",
    "    myMPAS_O = MPAS_O_Mode_Init.MPAS_O(False,periodicity='Periodic')\n",
    "    normalVelocityTendency = ComputeNormalVelocityTendency(myMPAS_O,myMPAS_O.normalVelocityCurrent,\n",
    "                                                           myMPAS_O.sshCurrent)"
   ]
  },
  {
   "cell_type": "code",
   "execution_count": 4,
   "metadata": {},
   "outputs": [],
   "source": [
    "test_ComputeNormalVelocityTendency_2 = False\n",
    "if test_ComputeNormalVelocityTendency_2:\n",
    "    print_basic_geometry = False\n",
    "    mesh_directory = 'Mesh+Initial_Condition+Registry_Files/NonPeriodic_x'\n",
    "    base_mesh_file_name = 'culled_mesh.nc'\n",
    "    mesh_file_name = 'mesh.nc'\n",
    "    mesh_type = 'uniform'\n",
    "    problem_type = 'default'\n",
    "    problem_is_linear = True\n",
    "    periodicity = 'NonPeriodic_x'\n",
    "    myMPAS_O = MPAS_O_Mode_Init.MPAS_O(print_basic_geometry,mesh_directory,base_mesh_file_name,mesh_file_name,\n",
    "                                       mesh_type,problem_type,problem_is_linear,periodicity)\n",
    "    normalVelocityTendency = ComputeNormalVelocityTendency(myMPAS_O,myMPAS_O.normalVelocityCurrent,\n",
    "                                                           myMPAS_O.sshCurrent)"
   ]
  },
  {
   "cell_type": "code",
   "execution_count": 5,
   "metadata": {},
   "outputs": [],
   "source": [
    "test_ComputeNormalVelocityTendency_3 = False\n",
    "if test_ComputeNormalVelocityTendency_3:\n",
    "    print_basic_geometry = False\n",
    "    mesh_directory = 'MPAS_O_Shallow_Water_Mesh_Generation/CoastalKelvinWaveMesh/PlotMesh'\n",
    "    base_mesh_file_name = 'base_mesh_P.nc'\n",
    "    mesh_file_name = 'mesh_P.nc'\n",
    "    mesh_type = 'uniform'\n",
    "    problem_type = 'default'\n",
    "    problem_is_linear = True\n",
    "    periodicity = 'Periodic'\n",
    "    myMPAS_O = MPAS_O_Mode_Init.MPAS_O(print_basic_geometry,mesh_directory,base_mesh_file_name,mesh_file_name,\n",
    "                                       mesh_type,problem_type,problem_is_linear,periodicity)\n",
    "    normalVelocityTendency = ComputeNormalVelocityTendency(myMPAS_O,myMPAS_O.normalVelocityCurrent,\n",
    "                                                           myMPAS_O.sshCurrent)"
   ]
  },
  {
   "cell_type": "code",
   "execution_count": 6,
   "metadata": {},
   "outputs": [],
   "source": [
    "test_ComputeNormalVelocityTendency_4 = False\n",
    "if test_ComputeNormalVelocityTendency_4:\n",
    "    print_basic_geometry = False\n",
    "    mesh_directory = 'MPAS_O_Shallow_Water_Mesh_Generation/CoastalKelvinWaveMesh/PlotMesh'\n",
    "    base_mesh_file_name = 'culled_mesh_NP.nc'\n",
    "    mesh_file_name = 'mesh_NP.nc'\n",
    "    mesh_type = 'uniform'\n",
    "    problem_type = 'default'\n",
    "    problem_is_linear = True\n",
    "    periodicity = 'NonPeriodic_x'\n",
    "    myMPAS_O = MPAS_O_Mode_Init.MPAS_O(print_basic_geometry,mesh_directory,base_mesh_file_name,mesh_file_name,\n",
    "                                       mesh_type,problem_type,problem_is_linear,periodicity)\n",
    "    normalVelocityTendency = ComputeNormalVelocityTendency(myMPAS_O,myMPAS_O.normalVelocityCurrent,\n",
    "                                                           myMPAS_O.sshCurrent)"
   ]
  },
  {
   "cell_type": "code",
   "execution_count": 7,
   "metadata": {},
   "outputs": [],
   "source": [
    "def ComputeSSHTendency(myMPAS_O,normalVelocity,ssh):\n",
    "    sshTendency = np.zeros(myMPAS_O.nCells)\n",
    "    compute_these_variables = np.zeros(8,dtype=bool)\n",
    "    if not(myMPAS_O.myNamelist.config_problem_is_linear):\n",
    "        compute_these_variables[0:2] = True\n",
    "        MPAS_O_Shared.ocn_diagnostic_solve(myMPAS_O,normalVelocity,ssh,compute_these_variables)\n",
    "    for iCell in range(0,myMPAS_O.nCells):\n",
    "        for i in range(0,myMPAS_O.nEdgesOnCell[iCell]):\n",
    "            iEdgeID = myMPAS_O.edgesOnCell[iCell,i]\n",
    "            iEdge = iEdgeID - 1\n",
    "            if myMPAS_O.myNamelist.config_problem_is_linear:\n",
    "                flux = normalVelocity[iEdge,0]*myMPAS_O.myNamelist.config_mean_depth\n",
    "            else:\n",
    "                flux = normalVelocity[iEdge,0]*myMPAS_O.layerThicknessEdge[iEdge,0]\n",
    "            sshTendency[iCell] += myMPAS_O.edgeSignOnCell[iCell,i]*flux*myMPAS_O.dvEdge[iEdge]\n",
    "        sshTendency[iCell] /= myMPAS_O.areaCell[iCell]\n",
    "    return sshTendency"
   ]
  },
  {
   "cell_type": "code",
   "execution_count": 8,
   "metadata": {},
   "outputs": [],
   "source": [
    "test_ComputeSSHTendency_1 = False\n",
    "if test_ComputeSSHTendency_1:\n",
    "    myMPAS_O = MPAS_O_Mode_Init.MPAS_O(False,periodicity='Periodic')\n",
    "    sshTendency = ComputeSSHTendency(myMPAS_O,myMPAS_O.normalVelocityCurrent,myMPAS_O.sshCurrent)"
   ]
  },
  {
   "cell_type": "code",
   "execution_count": 9,
   "metadata": {},
   "outputs": [],
   "source": [
    "test_ComputeSSHTendency_2 = False\n",
    "if test_ComputeSSHTendency_2:\n",
    "    print_basic_geometry = False\n",
    "    mesh_directory = 'Mesh+Initial_Condition+Registry_Files/NonPeriodic_x'\n",
    "    base_mesh_file_name = 'culled_mesh.nc'\n",
    "    mesh_file_name = 'mesh.nc'\n",
    "    mesh_type = 'uniform'\n",
    "    problem_type = 'default'\n",
    "    problem_is_linear = True\n",
    "    periodicity = 'NonPeriodic_x'\n",
    "    myMPAS_O = MPAS_O_Mode_Init.MPAS_O(print_basic_geometry,mesh_directory,base_mesh_file_name,mesh_file_name,\n",
    "                                       mesh_type,problem_type,problem_is_linear,periodicity)\n",
    "    sshTendency = ComputeSSHTendency(myMPAS_O,myMPAS_O.normalVelocityCurrent,myMPAS_O.sshCurrent)"
   ]
  },
  {
   "cell_type": "code",
   "execution_count": 10,
   "metadata": {},
   "outputs": [],
   "source": [
    "test_ComputeSSHTendency_3 = False\n",
    "if test_ComputeSSHTendency_3:\n",
    "    print_basic_geometry = False\n",
    "    mesh_directory = 'MPAS_O_Shallow_Water_Mesh_Generation/CoastalKelvinWaveMesh/PlotMesh'\n",
    "    base_mesh_file_name = 'base_mesh_P.nc'\n",
    "    mesh_file_name = 'mesh_P.nc'\n",
    "    mesh_type = 'uniform'\n",
    "    problem_type = 'default'\n",
    "    problem_is_linear = True\n",
    "    periodicity = 'Periodic'\n",
    "    myMPAS_O = MPAS_O_Mode_Init.MPAS_O(print_basic_geometry,mesh_directory,base_mesh_file_name,mesh_file_name,\n",
    "                                       mesh_type,problem_type,problem_is_linear,periodicity)\n",
    "    sshTendency = ComputeSSHTendency(myMPAS_O,myMPAS_O.normalVelocityCurrent,myMPAS_O.sshCurrent)"
   ]
  },
  {
   "cell_type": "code",
   "execution_count": 11,
   "metadata": {},
   "outputs": [],
   "source": [
    "test_ComputeSSHTendency_4 = False\n",
    "if test_ComputeSSHTendency_4:\n",
    "    print_basic_geometry = False\n",
    "    mesh_directory = 'MPAS_O_Shallow_Water_Mesh_Generation/CoastalKelvinWaveMesh/PlotMesh'\n",
    "    base_mesh_file_name = 'culled_mesh_NP.nc'\n",
    "    mesh_file_name = 'mesh_NP.nc'\n",
    "    mesh_type = 'uniform'\n",
    "    problem_type = 'default'\n",
    "    problem_is_linear = True\n",
    "    periodicity = 'NonPeriodic_x'\n",
    "    myMPAS_O = MPAS_O_Mode_Init.MPAS_O(print_basic_geometry,mesh_directory,base_mesh_file_name,mesh_file_name,\n",
    "                                       mesh_type,problem_type,problem_is_linear,periodicity)\n",
    "    sshTendency = ComputeSSHTendency(myMPAS_O,myMPAS_O.normalVelocityCurrent,myMPAS_O.sshCurrent)"
   ]
  },
  {
   "cell_type": "code",
   "execution_count": 12,
   "metadata": {},
   "outputs": [],
   "source": [
    "def ocn_shift_time_levels(myMPAS_O):\n",
    "    myMPAS_O.normalVelocityCurrent[:,:] = myMPAS_O.normalVelocityNew[:,:]\n",
    "    myMPAS_O.sshCurrent[:] = myMPAS_O.sshNew[:]"
   ]
  },
  {
   "cell_type": "markdown",
   "metadata": {},
   "source": [
    "# mpas_ocn_time_integration_forward_backward_predictor"
   ]
  },
  {
   "cell_type": "code",
   "execution_count": 13,
   "metadata": {},
   "outputs": [],
   "source": [
    "def ocn_time_integration_forward_backward_predictor_periodic_boundary_conditions(myMPAS_O):\n",
    "    gamma = myMPAS_O.myNamelist.config_forward_backward_predictor_parameter_gamma\n",
    "    dt = myMPAS_O.myNamelist.config_dt\n",
    "    normalVelocityTendency = ComputeNormalVelocityTendency(myMPAS_O,myMPAS_O.normalVelocityCurrent,\n",
    "                                                           myMPAS_O.sshCurrent)\n",
    "    for iEdge in range(0,myMPAS_O.nEdges): \n",
    "        for k in range(0,myMPAS_O.maxLevelEdgeTop[iEdge]+1):\n",
    "            myMPAS_O.normalVelocityNew[iEdge,k] = (myMPAS_O.normalVelocityCurrent[iEdge,k] \n",
    "                                                   + dt*normalVelocityTendency[iEdge,k])\n",
    "    sshTendency1 = ComputeSSHTendency(myMPAS_O,myMPAS_O.normalVelocityCurrent,myMPAS_O.sshCurrent)\n",
    "    sshTendency2 = ComputeSSHTendency(myMPAS_O,myMPAS_O.normalVelocityNew,myMPAS_O.sshCurrent)\n",
    "    for iCell in range(0,myMPAS_O.nCells):\n",
    "        sshTendency = (1.0 - gamma)*sshTendency1[iCell] + gamma*sshTendency2[iCell]\n",
    "        myMPAS_O.sshNew[iCell] = myMPAS_O.sshCurrent[iCell] + dt*sshTendency"
   ]
  },
  {
   "cell_type": "code",
   "execution_count": 14,
   "metadata": {},
   "outputs": [],
   "source": [
    "test_ocn_time_integration_forward_backward_predictor_periodic_boundary_conditions_1 = False\n",
    "if test_ocn_time_integration_forward_backward_predictor_periodic_boundary_conditions_1:\n",
    "    myMPAS_O = MPAS_O_Mode_Init.MPAS_O(False,periodicity='Periodic')\n",
    "    nTimeSteps = 1\n",
    "    for iTimeStep in range(0,nTimeSteps):\n",
    "        ocn_time_integration_forward_backward_predictor_periodic_boundary_conditions(myMPAS_O)\n",
    "        ocn_shift_time_levels(myMPAS_O)"
   ]
  },
  {
   "cell_type": "code",
   "execution_count": 15,
   "metadata": {},
   "outputs": [],
   "source": [
    "test_ocn_time_integration_forward_backward_predictor_periodic_boundary_conditions_2 = False\n",
    "if test_ocn_time_integration_forward_backward_predictor_periodic_boundary_conditions_2:\n",
    "    print_basic_geometry = False\n",
    "    mesh_directory = 'Mesh+Initial_Condition+Registry_Files/NonPeriodic_x'\n",
    "    base_mesh_file_name = 'culled_mesh.nc'\n",
    "    mesh_file_name = 'mesh.nc'\n",
    "    mesh_type = 'uniform'\n",
    "    problem_type = 'default'\n",
    "    problem_is_linear = True\n",
    "    periodicity = 'NonPeriodic_x'\n",
    "    myMPAS_O = MPAS_O_Mode_Init.MPAS_O(print_basic_geometry,mesh_directory,base_mesh_file_name,mesh_file_name,\n",
    "                                       mesh_type,problem_type,problem_is_linear,periodicity)\n",
    "    nTimeSteps = 1\n",
    "    for iTimeStep in range(0,nTimeSteps):\n",
    "        ocn_time_integration_forward_backward_predictor_periodic_boundary_conditions(myMPAS_O)\n",
    "        ocn_shift_time_levels(myMPAS_O)"
   ]
  },
  {
   "cell_type": "code",
   "execution_count": 16,
   "metadata": {},
   "outputs": [],
   "source": [
    "test_ocn_time_integration_forward_backward_predictor_periodic_boundary_conditions_3 = False\n",
    "if test_ocn_time_integration_forward_backward_predictor_periodic_boundary_conditions_3:\n",
    "    print_basic_geometry = False\n",
    "    mesh_directory = 'MPAS_O_Shallow_Water_Mesh_Generation/CoastalKelvinWaveMesh/PlotMesh'\n",
    "    base_mesh_file_name = 'base_mesh_P.nc'\n",
    "    mesh_file_name = 'mesh_P.nc'\n",
    "    mesh_type = 'uniform'\n",
    "    problem_type = 'default'\n",
    "    problem_is_linear = True\n",
    "    periodicity = 'Periodic'\n",
    "    myMPAS_O = MPAS_O_Mode_Init.MPAS_O(print_basic_geometry,mesh_directory,base_mesh_file_name,mesh_file_name,\n",
    "                                       mesh_type,problem_type,problem_is_linear,periodicity)\n",
    "    nTimeSteps = 1\n",
    "    for iTimeStep in range(0,nTimeSteps):\n",
    "        ocn_time_integration_forward_backward_predictor_periodic_boundary_conditions(myMPAS_O)\n",
    "        ocn_shift_time_levels(myMPAS_O)"
   ]
  },
  {
   "cell_type": "code",
   "execution_count": 17,
   "metadata": {},
   "outputs": [],
   "source": [
    "test_ocn_time_integration_forward_backward_predictor_periodic_boundary_conditions_4 = False\n",
    "if test_ocn_time_integration_forward_backward_predictor_periodic_boundary_conditions_4:\n",
    "    print_basic_geometry = False\n",
    "    mesh_directory = 'MPAS_O_Shallow_Water_Mesh_Generation/CoastalKelvinWaveMesh/PlotMesh'\n",
    "    base_mesh_file_name = 'culled_mesh_NP.nc'\n",
    "    mesh_file_name = 'mesh_NP.nc'\n",
    "    mesh_type = 'uniform'\n",
    "    problem_type = 'default'\n",
    "    problem_is_linear = True\n",
    "    periodicity = 'NonPeriodic_x'    \n",
    "    myMPAS_O = MPAS_O_Mode_Init.MPAS_O(print_basic_geometry,mesh_directory,base_mesh_file_name,mesh_file_name,\n",
    "                                       mesh_type,problem_type,problem_is_linear,periodicity)\n",
    "    nTimeSteps = 1\n",
    "    for iTimeStep in range(0,nTimeSteps):\n",
    "        ocn_time_integration_forward_backward_predictor_periodic_boundary_conditions(myMPAS_O)\n",
    "        ocn_shift_time_levels(myMPAS_O)"
   ]
  },
  {
   "cell_type": "code",
   "execution_count": 18,
   "metadata": {},
   "outputs": [],
   "source": [
    "def ocn_time_integration_forward_backward_predictor_Geophysical_Wave(\n",
    "myMPAS_O,DetermineGeophysicalWaveExactSurfaceElevation,DetermineGeophysicalWaveExactZonalVelocity,\n",
    "DetermineGeophysicalWaveExactMeridionalVelocity):\n",
    "    gamma = myMPAS_O.myNamelist.config_forward_backward_predictor_parameter_gamma\n",
    "    MeanDepth = myMPAS_O.myNamelist.config_mean_depth\n",
    "    WaveSpeed = myMPAS_O.myNamelist.config_wave_speed\n",
    "    dt = myMPAS_O.myNamelist.config_dt\n",
    "    normalVelocityTendency = ComputeNormalVelocityTendency(myMPAS_O,myMPAS_O.normalVelocityCurrent,\n",
    "                                                           myMPAS_O.sshCurrent)\n",
    "    for iEdge in range(0,myMPAS_O.nEdges): \n",
    "        if myMPAS_O.boundaryEdge[iEdge] == 1.0:\n",
    "            # Specify the boundary conditions by enforcing the normal velocities at the non-periodic boundary edges\n",
    "            # to be equal to their exact analytical counterparts.\n",
    "            DeformationRadius = WaveSpeed/myMPAS_O.fEdge[iEdge]\n",
    "            if myMPAS_O.myNamelist.config_problem_type == 'Coastal_Kelvin_Wave':\n",
    "                GeophysicalWaveExactZonalVelocity = DetermineGeophysicalWaveExactZonalVelocity()\n",
    "                GeophysicalWaveExactMeridionalVelocity = (\n",
    "                DetermineGeophysicalWaveExactMeridionalVelocity(WaveSpeed,DeformationRadius,myMPAS_O.lY,\n",
    "                                                                myMPAS_O.xEdge[iEdge],myMPAS_O.yEdge[iEdge],\n",
    "                                                                myMPAS_O.time+dt))\n",
    "            myMPAS_O.normalVelocityNew[iEdge,0] = (\n",
    "            (GeophysicalWaveExactZonalVelocity*np.cos(myMPAS_O.angleEdge[iEdge])\n",
    "             + GeophysicalWaveExactMeridionalVelocity*np.sin(myMPAS_O.angleEdge[iEdge])))\n",
    "        else:\n",
    "            for k in range(0,myMPAS_O.maxLevelEdgeTop[iEdge]+1):\n",
    "                myMPAS_O.normalVelocityNew[iEdge,k] = (myMPAS_O.normalVelocityCurrent[iEdge,k] \n",
    "                                                       + dt*normalVelocityTendency[iEdge,k])\n",
    "    sshTendency1 = ComputeSSHTendency(myMPAS_O,myMPAS_O.normalVelocityCurrent,myMPAS_O.sshCurrent)\n",
    "    sshTendency2 = ComputeSSHTendency(myMPAS_O,myMPAS_O.normalVelocityNew,myMPAS_O.sshCurrent)\n",
    "    for iCell in range(0,myMPAS_O.nCells):\n",
    "        if myMPAS_O.specifyExactSurfaceElevationAtNonPeriodicBoundaryCells and myMPAS_O.boundaryCell[iCell] == 1.0:\n",
    "        # Specify the boundary conditions by enforcing the surface elevations at the centers of the non-periodic \n",
    "        # boundary cells to be equal to their exact analytical counterparts.            \n",
    "            DeformationRadius = WaveSpeed/myMPAS_O.fCell[iCell]\n",
    "            if myMPAS_O.myNamelist.config_problem_type == 'Coastal_Kelvin_Wave':\n",
    "                myMPAS_O.sshNew[iCell] = (\n",
    "                DetermineGeophysicalWaveExactSurfaceElevation(MeanDepth,WaveSpeed,DeformationRadius,myMPAS_O.lY,\n",
    "                                                              myMPAS_O.xCell[iCell],myMPAS_O.yCell[iCell],\n",
    "                                                              myMPAS_O.time+dt))        \n",
    "        else:\n",
    "            sshTendency = (1.0 - gamma)*sshTendency1[iCell] + gamma*sshTendency2[iCell]\n",
    "            myMPAS_O.sshNew[iCell] = myMPAS_O.sshCurrent[iCell] + dt*sshTendency"
   ]
  },
  {
   "cell_type": "code",
   "execution_count": 19,
   "metadata": {},
   "outputs": [
    {
     "name": "stdout",
     "output_type": "stream",
     "text": [
      "[NbConvertApp] Converting notebook MPAS_O_Mode_Forward.ipynb to script\n",
      "[NbConvertApp] Writing 17252 bytes to MPAS_O_Mode_Forward.py\n"
     ]
    }
   ],
   "source": [
    "!jupyter nbconvert --to script MPAS_O_Mode_Forward.ipynb"
   ]
  }
 ],
 "metadata": {
  "kernelspec": {
   "display_name": "Python 3",
   "language": "python",
   "name": "python3"
  },
  "language_info": {
   "codemirror_mode": {
    "name": "ipython",
    "version": 3
   },
   "file_extension": ".py",
   "mimetype": "text/x-python",
   "name": "python",
   "nbconvert_exporter": "python",
   "pygments_lexer": "ipython3",
   "version": "3.6.10"
  }
 },
 "nbformat": 4,
 "nbformat_minor": 2
}
