{
 "cells": [
  {
   "cell_type": "markdown",
   "metadata": {},
   "source": [
    "Name: Initialization.ipynb <br/>\n",
    "Author: Siddhartha Bishnu <br/>\n",
    "Details: This code contains routines for creating the 'init.nc' file containing the mesh parameters copied from the 'mesh.nc' file as well as the initial values of the relevant variables. <br/>"
   ]
  },
  {
   "cell_type": "code",
   "execution_count": 1,
   "metadata": {},
   "outputs": [],
   "source": [
    "import numpy as np\n",
    "import netCDF4 as nc\n",
    "import os\n",
    "from netCDF4 import Dataset\n",
    "from lxml import etree"
   ]
  },
  {
   "cell_type": "code",
   "execution_count": 2,
   "metadata": {},
   "outputs": [],
   "source": [
    "def StringToBoolean(x):\n",
    "    return x.lower() in (\"TRUE\", \"T\", \"True\", \"true\", \"t\")"
   ]
  },
  {
   "cell_type": "code",
   "execution_count": 3,
   "metadata": {},
   "outputs": [],
   "source": [
    "def CommonData(problem_type='default'):\n",
    "    global nVertLevelsParameter, CoriolisParameter, NormalVelocityParameter, LayerThicknessParameter\n",
    "    global BottomDepthParameter, MaxLevelCellParameter, EdgeMaskParameter\n",
    "    if problem_type == 'default' or problem_type == 'Coastal_Kelvin_Wave':\n",
    "        nVertLevelsParameter = 1\n",
    "        CoriolisParameter = 10.0**(-4.0)\n",
    "        NormalVelocityParameter = 0.0\n",
    "        LayerThicknessParameter = 1000.0\n",
    "        BottomDepthParameter = 1000.0\n",
    "        MaxLevelCellParameter = 0\n",
    "        EdgeMaskParameter = 0"
   ]
  },
  {
   "cell_type": "code",
   "execution_count": 4,
   "metadata": {},
   "outputs": [],
   "source": [
    "def SpecifyInitialConditions(mesh_directory='Mesh+Initial_Condition+Registry_Files/Periodic',\n",
    "                             mesh_file_name='mesh.nc',init_file_name='init.nc',problem_type='default'):\n",
    "    CommonData(problem_type)\n",
    "    cwd = os.getcwd()\n",
    "    path = cwd + '/' + mesh_directory + '/'\n",
    "    if not os.path.exists(path):\n",
    "        os.mkdir(path) # os.makedir(path)\n",
    "    os.chdir(path) \n",
    "    # Source file\n",
    "    src = Dataset(mesh_file_name, \"r\", format='NETCDF4_CLASSIC')\n",
    "    # Destination file\n",
    "    if os.path.exists(init_file_name):\n",
    "        os.remove(init_file_name)\n",
    "    dst = Dataset(init_file_name, \"w\", format=\"NETCDF4_CLASSIC\")\n",
    "    # Copy attributes\n",
    "    for name in src.ncattrs():\n",
    "        dst.setncattr(name, src.getncattr(name))\n",
    "    # Copy dimensions\n",
    "    for name, dimension in src.dimensions.items():\n",
    "        dst.createDimension(name, len(dimension) if not dimension.isunlimited() else None)\n",
    "    # Add dimensions\n",
    "    dst.createDimension('nVertLevels', nVertLevelsParameter)\n",
    "    srcList = list()\n",
    "    # Copy variables\n",
    "    for name, variable in src.variables.items():\n",
    "        srcList.append(src.variables[name].name)\n",
    "        x = dst.createVariable(name, variable.datatype, variable.dimensions)\n",
    "        dst.variables[name][:] = src.variables[name][:]\n",
    "    # Parse the Registry file \n",
    "    Registry = etree.parse(\"Registry.xml\")\n",
    "    # You can only use the above line of code after copying or linking the Registry file to this folder. \n",
    "    # Alternatively, you can use the exact path location of the Registry file and modify the above line of code as\n",
    "    # Registry = etree.parse(\"/path/to/Registry.xml\")\n",
    "    # Copy the units and long names of the common variables from the parsed Registry file \n",
    "    for name, variable in dst.variables.items():\n",
    "        for var_struct in Registry.xpath('//var_struct'):\n",
    "            if var_struct.attrib['name'] == 'mesh':\n",
    "                for var in var_struct.getchildren():\n",
    "                    if var.attrib['name'] == name:\n",
    "                        dst.variables[name].units = var.attrib['units']\n",
    "                        dst.variables[name].long_name = var.attrib['description']\n",
    "    # Get values of the dimensions\n",
    "    nCells = len(dst.dimensions['nCells'])\n",
    "    nEdges = len(dst.dimensions['nEdges'])\n",
    "    nVertices = len(dst.dimensions['nVertices'])\n",
    "    nVertLevels = len(dst.dimensions['nVertLevels'])\n",
    "    # Create new output variables and specify their dimensions\n",
    "    fVertex = dst.createVariable('fVertex', np.float64, ('nVertices',))\n",
    "    fCell = dst.createVariable('fCell', np.float64, ('nCells',))\n",
    "    fEdge = dst.createVariable('fEdge', np.float64, ('nEdges',))\n",
    "    normalVelocity = dst.createVariable('normalVelocity', np.float64, ('Time','nEdges','nVertLevels',))\n",
    "    layerThickness = dst.createVariable('layerThickness', np.float64, ('Time','nCells','nVertLevels',))\n",
    "    bottomDepth = dst.createVariable('bottomDepth', np.float64, ('nCells',))\n",
    "    maxLevelCell = dst.createVariable('maxLevelCell', np.int32, ('nCells',))\n",
    "    edgeMask = dst.createVariable('edgeMask', np.int32, ('nEdges','nVertLevels',))      \n",
    "    # Copy the units and long names of these new output variables from the parsed Registry file \n",
    "    for name, variable in dst.variables.items():\n",
    "        if name not in srcList:\n",
    "            for var in Registry.xpath('/registry/var_struct/var'):\n",
    "                if var.attrib['name'] == name:\n",
    "                    dst.variables[name].units = var.attrib['units']\n",
    "                    dst.variables[name].long_name = var.attrib['description']  \n",
    "    # Initialize these new output variables  \n",
    "    fVertex[:] = CoriolisParameter\n",
    "    fCell[:] = CoriolisParameter\n",
    "    fEdge[:] = CoriolisParameter\n",
    "    normalVelocity[:] = NormalVelocityParameter\n",
    "    layerThickness[0,:,:] = LayerThicknessParameter\n",
    "    bottomDepth[:] = BottomDepthParameter\n",
    "    maxLevelCell[:] = MaxLevelCellParameter\n",
    "    edgeMask[:] = EdgeMaskParameter      \n",
    "    # Close the destination file\n",
    "    dst.close()\n",
    "    os.chdir(cwd)"
   ]
  },
  {
   "cell_type": "code",
   "execution_count": 5,
   "metadata": {},
   "outputs": [],
   "source": [
    "do_SpecifyInitialConditions_1 = False\n",
    "if do_SpecifyInitialConditions_1:\n",
    "    SpecifyInitialConditions()"
   ]
  },
  {
   "cell_type": "code",
   "execution_count": 6,
   "metadata": {},
   "outputs": [],
   "source": [
    "do_SpecifyInitialConditions_2 = False\n",
    "if do_SpecifyInitialConditions_2:\n",
    "    SpecifyInitialConditions(mesh_directory='Mesh+Initial_Condition+Registry_Files/NonPeriodic_x',\n",
    "                             mesh_file_name='mesh.nc',init_file_name='init.nc',problem_type='default')"
   ]
  },
  {
   "cell_type": "code",
   "execution_count": 7,
   "metadata": {},
   "outputs": [],
   "source": [
    "do_SpecifyInitialConditions_3 = False\n",
    "if do_SpecifyInitialConditions_3:\n",
    "    SpecifyInitialConditions(mesh_directory='MPAS_O_Shallow_Water_Mesh_Generation/CoastalKelvinWaveMesh/PlotMesh',\n",
    "                             mesh_file_name='mesh_P.nc',init_file_name='init_P.nc',\n",
    "                             problem_type='Coastal_Kelvin_Wave')"
   ]
  },
  {
   "cell_type": "code",
   "execution_count": 8,
   "metadata": {},
   "outputs": [],
   "source": [
    "do_SpecifyInitialConditions_4 = False\n",
    "if do_SpecifyInitialConditions_4:\n",
    "    SpecifyInitialConditions(mesh_directory='MPAS_O_Shallow_Water_Mesh_Generation/CoastalKelvinWaveMesh/PlotMesh',\n",
    "                             mesh_file_name='mesh_NP.nc',init_file_name='init_NP.nc',\n",
    "                             problem_type='Coastal_Kelvin_Wave')"
   ]
  },
  {
   "cell_type": "code",
   "execution_count": 9,
   "metadata": {},
   "outputs": [
    {
     "name": "stdout",
     "output_type": "stream",
     "text": [
      "[NbConvertApp] Converting notebook Initialization.ipynb to script\n",
      "[NbConvertApp] Writing 6177 bytes to Initialization.py\n"
     ]
    }
   ],
   "source": [
    "!jupyter nbconvert --to script Initialization.ipynb"
   ]
  }
 ],
 "metadata": {
  "kernelspec": {
   "display_name": "Python 3",
   "language": "python",
   "name": "python3"
  },
  "language_info": {
   "codemirror_mode": {
    "name": "ipython",
    "version": 3
   },
   "file_extension": ".py",
   "mimetype": "text/x-python",
   "name": "python",
   "nbconvert_exporter": "python",
   "pygments_lexer": "ipython3",
   "version": "3.6.10"
  }
 },
 "nbformat": 4,
 "nbformat_minor": 2
}
