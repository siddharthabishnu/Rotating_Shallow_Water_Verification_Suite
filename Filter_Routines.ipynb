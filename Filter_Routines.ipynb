{
 "cells": [
  {
   "cell_type": "markdown",
   "metadata": {},
   "source": [
    "Name: Filter_Routines.ipynb <br/>\n",
    "Author: Siddhartha Bishnu <br/>\n",
    "Details: This code contains routines for determining the primary and secondary weights of various barotropic time-averaging filters. "
   ]
  },
  {
   "cell_type": "code",
   "execution_count": 1,
   "metadata": {},
   "outputs": [],
   "source": [
    "import numpy as np\n",
    "import os\n",
    "from IPython.utils import io\n",
    "with io.capture_output() as captured:\n",
    "    import Common_Routines as CR"
   ]
  },
  {
   "cell_type": "code",
   "execution_count": 2,
   "metadata": {},
   "outputs": [],
   "source": [
    "def ShchepetkinShapeFunction(A0,tau0,tau,p,q,r):\n",
    "    A = A0*((tau/tau0)**p*(1.0 - (tau/tau0)**q) - r*(tau/tau0))\n",
    "    return A"
   ]
  },
  {
   "cell_type": "code",
   "execution_count": 3,
   "metadata": {},
   "outputs": [],
   "source": [
    "def ShchepetkinShapeFunctionDerivative(A0,tau0,tau,p,q,r): \n",
    "    A_tau = A0*(p*tau**(p - 1.0)/tau0**p - (p + q)*tau**(p + q - 1.0)/tau0**(p + q) - r/tau0)\n",
    "    return A_tau"
   ]
  },
  {
   "cell_type": "code",
   "execution_count": 4,
   "metadata": {},
   "outputs": [],
   "source": [
    "def GivenFunction(p,q,xVector,ShchepetkinFilterType):\n",
    "    fVector = np.zeros(xVector.shape[0])\n",
    "    tauStar = xVector[0]\n",
    "    tau0 = xVector[1]\n",
    "    A0 = xVector[2]\n",
    "    r = xVector[3]\n",
    "    ATauStar = ShchepetkinShapeFunction(A0,tau0,tauStar,p,q,r)\n",
    "    I0 = A0*(tauStar**(p+1.0)/(tau0**p*(p+1.0)) - tauStar**(p+q+1.0)/(tau0**(p+q)*(p+q+1.0)) \n",
    "             - r*tauStar**2.0/(2.0*tau0))\n",
    "    I1 = A0*(tauStar**(p+2.0)/(tau0**p*(p+2.0)) - tauStar**(p+q+2.0)/(tau0**(p+q)*(p+q+2.0)) \n",
    "             - r*tauStar**3.0/(3.0*tau0))\n",
    "    I2 = A0*(tauStar**(p+3.0)/(tau0**p*(p+3.0)) - tauStar**(p+q+3.0)/(tau0**(p+q)*(p+q+3.0)) \n",
    "             - r*tauStar**4.0/(4.0*tau0))\n",
    "    I3 = A0*(tauStar**(p+4.0)/(tau0**p*(p+4.0)) - tauStar**(p+q+4.0)/(tau0**(p+q)*(p+q+4.0)) \n",
    "             - r*tauStar**5.0/(5.0*tau0))\n",
    "    fVector[0] = ATauStar - 0.0\n",
    "    fVector[1] = I0 - 1.0\n",
    "    fVector[2] = I1 - 1.0\n",
    "    if ShchepetkinFilterType == 'SecondOrderAccurate':\n",
    "        fVector[3] = I2 - 1.0\n",
    "    else: # if ShchepetkinFilterType == 'MinimalDispersion':\n",
    "        fVector[3] = I3 - 3.0*I2 + 2.0\n",
    "    return fVector"
   ]
  },
  {
   "cell_type": "code",
   "execution_count": 5,
   "metadata": {},
   "outputs": [],
   "source": [
    "def GivenFunctionGradient(p,q,xVector,ShchepetkinFilterType):\n",
    "    fVector = np.zeros(xVector.shape[0])\n",
    "    GradFVector = np.zeros((xVector.shape[0],xVector.shape[0]))\n",
    "    fVector = GivenFunction(p,q,xVector,ShchepetkinFilterType)\n",
    "    tauStar = xVector[0]\n",
    "    tau0 = xVector[1]\n",
    "    A0 = xVector[2]\n",
    "    r = xVector[3]\n",
    "    I2Prime = np.zeros(4)\n",
    "    I3Prime = np.zeros(4)\n",
    "    GradFVector[0,0] = A0*(p*tauStar**(p-1.0)/tau0**p - (p+q)*tauStar**(p+q-1.0)/tau0**(p+q) - r/tau0)\n",
    "    GradFVector[0,1] = A0*(-p*tauStar**p/tau0**(p+1.0) + (p+q)*tauStar**(p+q)/tau0**(p+q+1.0) \n",
    "                           + r*tauStar/tau0**2.0)\n",
    "    GradFVector[0,2] = ShchepetkinShapeFunction(A0,tau0,tauStar,p,q,r)/A0\n",
    "    GradFVector[0,3] = -A0*tauStar/tau0\n",
    "    GradFVector[1,0] = ShchepetkinShapeFunction(A0,tau0,tauStar,p,q,r)\n",
    "    GradFVector[1,1] = A0*(-p*tauStar**(p+1.0)/(tau0**(p+1.0)*(p+1.0)) \n",
    "                           + (p+q)*tauStar**(p+q+1.0)/(tau0**(p+q+1.0)*(p+q+1.0)) + r*tauStar**2.0/(2.0*tau0**2.0))\n",
    "    GradFVector[1,2] = (tauStar**(p+1.0)/(tau0**p*(p+1.0)) - tauStar**(p+q+1.0)/(tau0**(p+q)*(p+q+1.0)) \n",
    "                        - r*tauStar**2.0/(2.0*tau0))         \n",
    "    GradFVector[1,3] = -A0*tauStar**2.0/(2.0*tau0)\n",
    "    GradFVector[2,0] = tauStar*ShchepetkinShapeFunction(A0,tau0,tauStar,p,q,r)\n",
    "    GradFVector[2,1] = A0*(-p*tauStar**(p+2.0)/(tau0**(p+1.0)*(p+2.0)) \n",
    "                           + (p+q)*tauStar**(p+q+2.0)/(tau0**(p+q+1.0)*(p+q+2.0)) \n",
    "                           + r*tauStar**3.0/(3.0*tau0**2.0))\n",
    "    GradFVector[2,2] = (tauStar**(p+2.0)/(tau0**p*(p+2.0)) - tauStar**(p+q+2.0)/(tau0**(p+q)*(p+q+2.0)) \n",
    "                        - r*tauStar**3.0/(3.0*tau0))             \n",
    "    GradFVector[2,3] = -A0*tauStar**3.0/(3.0*tau0)\n",
    "    I2 = A0*(tauStar**(p+3.0)/(tau0**p*(p+3.0)) - tauStar**(p+q+3.0)/(tau0**(p+q)*(p+q+3.0)) \n",
    "             - r*tauStar**4.0/(4.0*tau0))\n",
    "    I3 = A0*(tauStar**(p+4.0)/(tau0**p*(p+4.0)) - tauStar**(p+q+4.0)/(tau0**(p+q)*(p+q+4.0)) \n",
    "             - r*tauStar**5.0/(5.0*tau0))    \n",
    "    I2Prime[0] = tauStar**2.0*ShchepetkinShapeFunction(A0,tau0,tauStar,p,q,r)\n",
    "    I2Prime[1] = A0*(-p*tauStar**(p+3.0)/(tau0**(p+1.0)*(p+3.0)) \n",
    "                     + (p+q)*tauStar**(p+q+3.0)/(tau0**(p+q+1.0)*(p+q+3.0)) + r*tauStar**4.0/(4.0*tau0**2.0))\n",
    "    I2Prime[2] = (tauStar**(p+3.0)/(tau0**p*(p+3.0)) - tauStar**(p+q+3.0)/(tau0**(p+q)*(p+q+3.0))\n",
    "                  - r*tauStar**4.0/(4.0*tau0))             \n",
    "    I2Prime[3] = -A0*tauStar**4.0/(4.0*tau0)   \n",
    "    I3Prime[0] = tauStar**3.0*ShchepetkinShapeFunction(A0,tau0,tauStar,p,q,r)\n",
    "    I3Prime[1] = A0*(-p*tauStar**(p+4.0)/(tau0**(p+1.0)*(p+4.0)) \n",
    "                     + (p+q)*tauStar**(p+q+4.0)/(tau0**(p+q+1.0)*(p+q+4.0)) + r*tauStar**5.0/(5.0*tau0**2.0))\n",
    "    I3Prime[2] = (tauStar**(p+4.0)/(tau0**p*(p+4.0)) - tauStar**(p+q+4.0)/(tau0**(p+q)*(p+q+4.0))\n",
    "                  - r*tauStar**5.0/(5.0*tau0))             \n",
    "    I3Prime[3] = -A0*tauStar**5.0/(5.0*tau0)   \n",
    "    if ShchepetkinFilterType == 'SecondOrderAccurate':\n",
    "        GradFVector[3,:] = I2Prime[:]\n",
    "    else: # if ShchepetkinFilterType == 'MinimalDispersion':   \n",
    "        GradFVector[3,:] = I3Prime[:] - 3.0*I2Prime[:]   \n",
    "    return GradFVector"
   ]
  },
  {
   "cell_type": "code",
   "execution_count": 6,
   "metadata": {},
   "outputs": [],
   "source": [
    "def NewtonRaphsonSolverForDeterminingShchepetkinFilterParameters(p,q,ShchepetkinFilterType):\n",
    "    nIterationsNewtonRaphson = 10**4\n",
    "    NewtonRaphsonTolerance = 4.0*np.finfo(float).eps\n",
    "    xVector = np.zeros(4)\n",
    "    if ShchepetkinFilterType == 'SecondOrderAccurate':\n",
    "        tauStar = 1.35\n",
    "    else: # if ShchepetkinFilterType == 'MinimalDispersion':   \n",
    "        tauStar = 1.49\n",
    "    tau0 = (p + 2.0)*(p + q + 2.0)/((p + 1.0)*(p + q + 1.0))\n",
    "    A0 = 1.0\n",
    "    r = 0.0\n",
    "    # This Newton-Raphson method is not ideal for solving this nonlinear system of equations with the variables\n",
    "    # being The Shchepetkin filter parameters. This is because the problem is not well-posed. It has multiple \n",
    "    # solutions. If the initial guess is not close to our desired solution, the method may not converge at all and\n",
    "    # even if it does, the converged solution will be different one. As a matter of fact, the initial guess for \n",
    "    # tauStar should be chosen very carefully since it is the most sensitive one. For the second order accurate \n",
    "    # filter, the method only works for initial guess of tauStar equal to 1.35 (not even 1.30 or 1.40). For the \n",
    "    # filter optimized for minimal numerical dispersion, the method only works for initial guess of tauStar equal \n",
    "    # to 1.49 (not even 1.48 or 1.50).\n",
    "    xVector[0] = tauStar\n",
    "    xVector[1] = tau0\n",
    "    xVector[2] = A0\n",
    "    xVector[3] = r\n",
    "    converged = False\n",
    "    for iIteration in range(0,nIterationsNewtonRaphson):  \n",
    "        fVector = GivenFunction(p,q,xVector,ShchepetkinFilterType)\n",
    "        GradFVector = GivenFunctionGradient(p,q,xVector,ShchepetkinFilterType)\n",
    "        GradFVectorInverse = np.linalg.inv(GradFVector)\n",
    "        DeltaX = -np.matmul(GradFVectorInverse,fVector)\n",
    "        xVector += DeltaX\n",
    "        DeltaXMaxNorm = np.linalg.norm(DeltaX,np.inf)\n",
    "        xVectorMaxNorm = np.linalg.norm(xVector,np.inf)\n",
    "        if DeltaXMaxNorm/xVectorMaxNorm <= NewtonRaphsonTolerance:\n",
    "            converged = True\n",
    "            nIterationsUptoConvergence = iIteration + 1\n",
    "            break\n",
    "    if converged:    \n",
    "        print('The numerical solution for the Shchepetkin filter parameters has converged within %d iterations.' \n",
    "              %nIterationsUptoConvergence)\n",
    "        print('They are as follows:')\n",
    "        print('tauStar = %.6f' %xVector[0])\n",
    "        print('tau0 = %.6f' %xVector[1])\n",
    "        print('A0 = %.6f' %xVector[2])\n",
    "        print('r = %.6f' %xVector[3])\n",
    "    else:\n",
    "        print('The numerical solution for the Shchepetkin filter parameters has not converged within',\n",
    "              '%d iterations.' %nIterationsNewtonRaphson)\n",
    "        print('The final values of the parameters are as follows:')\n",
    "        print('tauStar = %.6f' %xVector[0])\n",
    "        print('tau0 = %.6f' %xVector[1])\n",
    "        print('A0 = %.6f' %xVector[2])\n",
    "        print('r = %.6f' %xVector[3])     "
   ]
  },
  {
   "cell_type": "code",
   "execution_count": 7,
   "metadata": {},
   "outputs": [],
   "source": [
    "RunNewtonRaphsonSolverForDeterminingShchepetkinFilterParameters = False\n",
    "if RunNewtonRaphsonSolverForDeterminingShchepetkinFilterParameters:\n",
    "    NewtonRaphsonSolverForDeterminingShchepetkinFilterParameters(2.0,2.0,'SecondOrderAccurate')"
   ]
  },
  {
   "cell_type": "code",
   "execution_count": 8,
   "metadata": {},
   "outputs": [],
   "source": [
    "RunNewtonRaphsonSolverForDeterminingShchepetkinFilterParameters = False\n",
    "if RunNewtonRaphsonSolverForDeterminingShchepetkinFilterParameters:\n",
    "    NewtonRaphsonSolverForDeterminingShchepetkinFilterParameters(2.0,2.0,'MinimalDispersion')"
   ]
  },
  {
   "cell_type": "code",
   "execution_count": 9,
   "metadata": {},
   "outputs": [],
   "source": [
    "def NewtonRaphsonSolverForDeterminingShchepetkinFilterEndPoint(A0,tau0,p,q,r,tau,printResult):\n",
    "    nIterationsNewtonRaphson = 10**2\n",
    "    NewtonRaphsonTolerance = 4.0*np.finfo(float).eps\n",
    "    converged = False\n",
    "    for iIteration in range(0,nIterationsNewtonRaphson):  \n",
    "        FunctionValue = ShchepetkinShapeFunction(A0,tau0,tau,p,q,r)\n",
    "        DerivativeValue = ShchepetkinShapeFunctionDerivative(A0,tau0,tau,p,q,r)\n",
    "        Delta = -FunctionValue/DerivativeValue\n",
    "        tau += Delta\n",
    "        if abs(Delta)/abs(tau) <= NewtonRaphsonTolerance:\n",
    "            converged = True\n",
    "            IterationsUptoConvergence = iIteration + 1\n",
    "            break\n",
    "    if printResult:\n",
    "        if converged:    \n",
    "            print('The numerical solution for the Shchepetkin filter endpoint has converged to',\n",
    "                  '%.6f within %d iterations.' %(tau,IterationsUptoConvergence))\n",
    "        else:\n",
    "            print('The numerical solution for the Shchepetkin filter endpoint has not converged within',\n",
    "                  '%d iterations.' %nIterationsNewtonRaphson)\n",
    "    return converged, tau"
   ]
  },
  {
   "cell_type": "code",
   "execution_count": 10,
   "metadata": {},
   "outputs": [],
   "source": [
    "def TestNewtonRaphsonSolverForDeterminingShchepetkinFilterEndPoint(p,q):\n",
    "    A0 = 1.0\n",
    "    tau0 = (p + 2.0)*(p + q + 2.0)/((p + 1.0)*(p + q + 1.0))\n",
    "    r = 0.25  \n",
    "    tauStar = 1.5\n",
    "    printResult = True\n",
    "    converged, tauStar = NewtonRaphsonSolverForDeterminingShchepetkinFilterEndPoint(A0,tau0,p,q,r,tauStar,\n",
    "                                                                                    printResult)"
   ]
  },
  {
   "cell_type": "code",
   "execution_count": 11,
   "metadata": {},
   "outputs": [],
   "source": [
    "Run_TestNewtonRaphsonSolverForDeterminingShchepetkinFilterEndPoint = False\n",
    "if Run_TestNewtonRaphsonSolverForDeterminingShchepetkinFilterEndPoint:\n",
    "    TestNewtonRaphsonSolverForDeterminingShchepetkinFilterEndPoint(2.0,2.0)"
   ]
  },
  {
   "cell_type": "code",
   "execution_count": 12,
   "metadata": {},
   "outputs": [],
   "source": [
    "def ShchepetkinFilterParameters_SecondOrderAccurate(p,q,DisplayOutputAtEachIterationLevel):\n",
    "    tauStar = 1.5\n",
    "    tau0 = (p + 2.0)*(p + q + 2.0)/((p + 1.0)*(p + q + 1.0))\n",
    "    tau0Last = tau0\n",
    "    A0 = 1.0\n",
    "    r = 0.0\n",
    "    rLast = r\n",
    "    nIterationsNewtonRaphson = 10**3\n",
    "    NewtonRaphsonTolerance = 4.0*np.finfo(float).eps \n",
    "    converged = False\n",
    "    for iIteration in range(0,nIterationsNewtonRaphson): \n",
    "        convergedTauStar, tauStar = NewtonRaphsonSolverForDeterminingShchepetkinFilterEndPoint(A0,tau0,p,q,r,\n",
    "                                                                                               tauStar,False)\n",
    "        LHSFactor = A0*(tauStar**(p+1.0)/(tau0**p*(p+1.0)) - tauStar**(p+q+1.0)/(tau0**(p+q)*(p+q+1.0))\n",
    "                        - r*tauStar**2.0/(2.0*tau0))\n",
    "        A0 /= LHSFactor\n",
    "        convergedTau0 = False\n",
    "        for jIteration in range(0,nIterationsNewtonRaphson):  \n",
    "            FunctionValueTau0 = A0*(tauStar**(p+2.0)/(tau0**p*(p+2.0)) - tauStar**(p+q+2.0)/(tau0**(p+q)*(p+q+2.0))\n",
    "                                    - r*tauStar**3.0/(3.0*tau0)) - 1.0\n",
    "            DerivativeValueTau0 = A0*(-p*tauStar**(p+2.0)/(tau0**(p+1.0)*(p+2.0))\n",
    "                                      + (p+q)*tauStar**(p+q+2.0)/(tau0**(p+q+1.0)*(p+q+2.0))\n",
    "                                      + r*tauStar**3.0/(3.0*tau0**2.0))\n",
    "            DeltaTau0 = -FunctionValueTau0/DerivativeValueTau0\n",
    "            tau0 += DeltaTau0\n",
    "            if abs(DeltaTau0)/abs(tau0) <= NewtonRaphsonTolerance:\n",
    "                convergedTau0 = True\n",
    "                IterationsTau0UptoConvergence = jIteration + 1\n",
    "                break\n",
    "            tau0Last = tau0\n",
    "        r = -(4.0*tau0/tauStar**4.0)*(1.0/A0 - tauStar**(p+3.0)/(tau0**p*(p+3.0)) \n",
    "                                      + tauStar**(p+q+3.0)/(tau0**(p+q)*(p+q+3.0)))\n",
    "        DeltaTau0 = tau0 - tau0Last\n",
    "        DeltaR = r - rLast\n",
    "        if max(abs(DeltaTau0)/abs(tau0),abs(DeltaR)/abs(r)) <= NewtonRaphsonTolerance:\n",
    "            converged = True\n",
    "            nIterationsUptoConvergence = iIteration + 1\n",
    "            break\n",
    "        if DisplayOutputAtEachIterationLevel:\n",
    "            print('The Shchepetkin filter parameters at iteration level %3d are %12.5f %12.5f %12.5f %12.5f.' \n",
    "                  %(iIteration+1,tauStar, tau0, A0, r))\n",
    "        rLast = r\n",
    "    if converged:    \n",
    "        print('The numerical solution for the Shchepetkin filter parameters has converged within %d iterations.' \n",
    "              %nIterationsUptoConvergence)\n",
    "        print('They are as follows:')\n",
    "        print('tauStar = %.6f' %tauStar)\n",
    "        print('tau0 = %.6f' %tau0)\n",
    "        print('A0 = %.6f' %A0)\n",
    "        print('r = %.6f' %r)\n",
    "    else:\n",
    "        print('The numerical solution for the Shchepetkin filter parameters has not converged within',\n",
    "              '%d iterations.' %nIterationsNewtonRaphson)  \n",
    "        print('The final values of the parameters are as follows:')\n",
    "        print('tauStar = %.6f' %tauStar)\n",
    "        print('tau0 = %.6f' %tau0)\n",
    "        print('A0 = %.6f' %A0)\n",
    "        print('r = %.6f' %r)\n",
    "    return tauStar, tau0, A0, r"
   ]
  },
  {
   "cell_type": "code",
   "execution_count": 13,
   "metadata": {},
   "outputs": [],
   "source": [
    "DetermineShchepetkinFilterParameters_SecondOrderAccurate = False\n",
    "if DetermineShchepetkinFilterParameters_SecondOrderAccurate:\n",
    "    tauStar, tau0, A0, r = ShchepetkinFilterParameters_SecondOrderAccurate(2.0,2.0,False)"
   ]
  },
  {
   "cell_type": "code",
   "execution_count": 14,
   "metadata": {},
   "outputs": [],
   "source": [
    "def ShchepetkinFilterParameters_MinimalDispersion(p,q,DisplayOutputAtEachIterationLevel):\n",
    "    tauStar = 1.5\n",
    "    tau0 = (p + 2.0)*(p + q + 2.0)/((p + 1.0)*(p + q + 1.0))\n",
    "    tau0Last = tau0\n",
    "    A0 = 1.0\n",
    "    r = 0.0\n",
    "    rLast = r\n",
    "    nIterationsNewtonRaphson = 10**4\n",
    "    # It is observed that the iterative method for determining the Shchepetkin parameters does not converge to our\n",
    "    # desired tolerance, close to machine precision. However, it does converge to a solution very close to the one\n",
    "    # obtained by Shchepetkin. But the residual approximated by max(abs(DeltaTau0)/abs(tau0),abs(DeltaR)/abs(r))\n",
    "    # is ~O(10.0**(-8.0)) after 1000 iterations and ~O(10.0**(-15.0)) after 10000 iterations. That is why we choose\n",
    "    # nIterationsNewtonRaphson to be 10**4, not 10**3.\n",
    "    NewtonRaphsonTolerance = 4.0*np.finfo(float).eps \n",
    "    converged = False\n",
    "    for iIteration in range(0,nIterationsNewtonRaphson): \n",
    "        convergedTauStar, tauStar = (\n",
    "        NewtonRaphsonSolverForDeterminingShchepetkinFilterEndPoint(A0,tau0,p,q,r,tauStar,False))\n",
    "        LHSFactor = A0*(tauStar**(p+1.0)/(tau0**p*(p+1.0)) - tauStar**(p+q+1.0)/(tau0**(p+q)*(p+q+1.0))\n",
    "                        - r*tauStar**2.0/(2.0*tau0))\n",
    "        A0 /= LHSFactor\n",
    "        convergedTau0 = False\n",
    "        for jIteration in range(0,nIterationsNewtonRaphson):  \n",
    "            FunctionValueTau0 = A0*(tauStar**(p+2.0)/(tau0**p*(p+2.0)) - tauStar**(p+q+2.0)/(tau0**(p+q)*(p+q+2.0))\n",
    "                                    - r*tauStar**3.0/(3.0*tau0)) - 1.0\n",
    "            DerivativeValueTau0 = A0*(-p*tauStar**(p+2.0)/(tau0**(p+1.0)*(p+2.0))\n",
    "                                      + (p+q)*tauStar**(p+q+2.0)/(tau0**(p+q+1.0)*(p+q+2.0))\n",
    "                                      + r*tauStar**3.0/(3.0*tau0**2.0))\n",
    "            DeltaTau0 = -FunctionValueTau0/DerivativeValueTau0\n",
    "            tau0 += DeltaTau0\n",
    "            if abs(DeltaTau0)/abs(tau0) <= NewtonRaphsonTolerance:\n",
    "                convergedTau0 = True\n",
    "                IterationsTau0UptoConvergence = jIteration + 1\n",
    "                break\n",
    "            tau0Last = tau0\n",
    "        LHS = A0*(-tauStar**5.0/(5.0*tau0) + 3.0*tauStar**4.0/(4.0*tau0))\n",
    "        RHS = (3.0*A0*(tauStar**(p+3.0)/(tau0**p*(p+3.0)) - tauStar**(p+q+3.0)/(tau0**(p+q)*(p+q+3.0)))\n",
    "               - A0*(tauStar**(p+4.0)/(tau0**p*(p+4.0)) - tauStar**(p+q+4.0)/(tau0**(p+q)*(p+q+4.0))) - 2.0)\n",
    "        r = RHS/LHS\n",
    "        DeltaTau0 = tau0 - tau0Last\n",
    "        DeltaR = r - rLast\n",
    "        if max(abs(DeltaTau0)/abs(tau0),abs(DeltaR)/abs(r)) <= NewtonRaphsonTolerance:\n",
    "            converged = True\n",
    "            nIterationsUptoConvergence = iIteration + 1\n",
    "            break\n",
    "        if DisplayOutputAtEachIterationLevel:\n",
    "            print('The Shchepetkin filter parameters at iteration level %3d are %12.5f %12.5f %12.5f %12.5f.'\n",
    "                  %(iIteration+1,tauStar, tau0, A0, r))\n",
    "        rLast = r\n",
    "    if converged:    \n",
    "        print('The numerical solution for the Shchepetkin filter parameters has converged within %d iterations.' \n",
    "              %nIterationsUptoConvergence)\n",
    "        print('They are as follows:')\n",
    "        print('tauStar = %.6f' %tauStar)\n",
    "        print('tau0 = %.6f' %tau0)\n",
    "        print('A0 = %.6f' %A0)\n",
    "        print('r = %.6f' %r)\n",
    "    else:\n",
    "        print('The numerical solution for the Shchepetkin filter parameters has not converged within',\n",
    "              '%d iterations.' %nIterationsNewtonRaphson)  \n",
    "        print('The final values of the parameters are as follows:')\n",
    "        print('tauStar = %.6f' %tauStar)\n",
    "        print('tau0 = %.6f' %tau0)\n",
    "        print('A0 = %.6f' %A0)\n",
    "        print('r = %.6f' %r)\n",
    "    return tauStar, tau0, A0, r"
   ]
  },
  {
   "cell_type": "code",
   "execution_count": 15,
   "metadata": {},
   "outputs": [],
   "source": [
    "DetermineShchepetkinFilterParameters_MinimalDispersion = False\n",
    "if DetermineShchepetkinFilterParameters_MinimalDispersion:\n",
    "    tauStar, tau0, A0, r = ShchepetkinFilterParameters_MinimalDispersion(2.0,2.0,False)"
   ]
  },
  {
   "cell_type": "code",
   "execution_count": 16,
   "metadata": {},
   "outputs": [],
   "source": [
    "def DetermineFilterWeights(FilterType,RectangularFilterRange,pShchepetkin,qShchepetkin,nBarotropicTimeSteps):\n",
    "    PrimaryWeights = np.zeros(2*nBarotropicTimeSteps)\n",
    "    SecondaryWeights = np.zeros(2*nBarotropicTimeSteps)\n",
    "    if FilterType == 'no_filter_type_1':\n",
    "        PrimaryWeights[nBarotropicTimeSteps-1] = 1.0\n",
    "    elif FilterType == 'no_filter_type_2':\n",
    "        PrimaryWeights[nBarotropicTimeSteps-1] = 1.0\n",
    "        SecondaryWeights[int(nBarotropicTimeSteps/2)-1] = 1.0  \n",
    "        return PrimaryWeights, SecondaryWeights\n",
    "    elif FilterType == 'rectangular':\n",
    "        for iBarotropicTimeStep in range(0,2*nBarotropicTimeSteps):\n",
    "            tau = float(iBarotropicTimeStep + 1)/float(nBarotropicTimeSteps)\n",
    "            if tau > (1.0 - RectangularFilterRange) and tau <= (1.0 + RectangularFilterRange):\n",
    "                PrimaryWeights[iBarotropicTimeStep] = 1.0/(2.0*RectangularFilterRange*float(nBarotropicTimeSteps))\n",
    "    elif FilterType == 'ROMS_cosine':\n",
    "        for iBarotropicTimeStep in range(0,2*nBarotropicTimeSteps):\n",
    "            tau = float(iBarotropicTimeStep + 1)/float(nBarotropicTimeSteps)\n",
    "            if tau > 0.5 and tau <= 1.5:\n",
    "                PrimaryWeights[iBarotropicTimeStep] = 1.0 + np.cos(2.0*np.pi*(tau - 1.0))\n",
    "        PrimaryWeights /= float(nBarotropicTimeSteps)\n",
    "    elif FilterType == 'Hamming_window_cosine':\n",
    "        for iBarotropicTimeStep in range(0,2*nBarotropicTimeSteps):\n",
    "            tau = float(iBarotropicTimeStep + 1)/float(nBarotropicTimeSteps)\n",
    "            if tau > 0.5 and tau <= 1.5:\n",
    "                PrimaryWeights[iBarotropicTimeStep] = 1.0 + 0.85*np.cos(2.0*np.pi*(tau - 1.0))\n",
    "        PrimaryWeights /= float(nBarotropicTimeSteps)\n",
    "    elif FilterType == 'Shchepetkin_SecondOrderAccurate':\n",
    "        tauStar, tau0, A0, r = ShchepetkinFilterParameters_SecondOrderAccurate(pShchepetkin,qShchepetkin,False)\n",
    "        for iBarotropicTimeStep in range(0,2*nBarotropicTimeSteps):\n",
    "            tau = float(iBarotropicTimeStep + 1)/float(nBarotropicTimeSteps)\n",
    "            PrimaryWeights[iBarotropicTimeStep] = ShchepetkinShapeFunction(A0,tau0,tau,pShchepetkin,qShchepetkin,r)\n",
    "            if tau > 1.0 and PrimaryWeights[iBarotropicTimeStep] < 0.0:\n",
    "                PrimaryWeights[iBarotropicTimeStep] = 0.0\n",
    "        PrimaryWeights /= float(nBarotropicTimeSteps)   \n",
    "    elif FilterType == 'Shchepetkin_MinimalDispersion':\n",
    "        tauStar, tau0, A0, r = ShchepetkinFilterParameters_MinimalDispersion(pShchepetkin,qShchepetkin,False)\n",
    "        for iBarotropicTimeStep in range(0,2*nBarotropicTimeSteps):\n",
    "            tau = float(iBarotropicTimeStep + 1)/float(nBarotropicTimeSteps)\n",
    "            PrimaryWeights[iBarotropicTimeStep] = ShchepetkinShapeFunction(A0,tau0,tau,pShchepetkin,qShchepetkin,r)\n",
    "            if tau > 1.0 and PrimaryWeights[iBarotropicTimeStep] < 0.0:\n",
    "                PrimaryWeights[iBarotropicTimeStep] = 0.0\n",
    "        PrimaryWeights /= float(nBarotropicTimeSteps)   \n",
    "    for iBarotropicTimeStep in range(0,2*nBarotropicTimeSteps):\n",
    "        for jBarotropicTimeStep in range(iBarotropicTimeStep,2*nBarotropicTimeSteps):\n",
    "            SecondaryWeights[iBarotropicTimeStep] += PrimaryWeights[jBarotropicTimeStep]\n",
    "        SecondaryWeights[iBarotropicTimeStep] /= float(nBarotropicTimeSteps)\n",
    "    PrimaryWeights /= sum(PrimaryWeights)\n",
    "    SecondaryWeights /= sum(SecondaryWeights)\n",
    "    return PrimaryWeights, SecondaryWeights"
   ]
  },
  {
   "cell_type": "code",
   "execution_count": 17,
   "metadata": {},
   "outputs": [],
   "source": [
    "def NoFilterType1():\n",
    "    FilterType = 'no_filter_type_1'\n",
    "    nBarotropicTimeSteps = 30\n",
    "    PrimaryWeights, SecondaryWeights = DetermineFilterWeights(FilterType,0.5,2.0,2.0,nBarotropicTimeSteps)\n",
    "    print('With no filter of type 1, the sum of all primary weights is %.6f.' %(sum(PrimaryWeights)))\n",
    "    print('With no filter of type 1, the sum of all secondary weights is %.6f.' %(sum(SecondaryWeights)))\n",
    "    Filename = 'NoFilterType1Weights'\n",
    "    CR.PythonPlots1DSaveAsPNG('MPAS_O_Shallow_Water_Output',np.linspace(1.0/float(nBarotropicTimeSteps),2.0,\n",
    "                                                                        2*nBarotropicTimeSteps),PrimaryWeights,\n",
    "                              SecondaryWeights,2.0,True,True,'Fraction of Baroclinic Time Step',10,'Weights',10,\n",
    "                              'Primary Weights','Secondary Weights','center left',' ',True,7.5,True,Filename,True)"
   ]
  },
  {
   "cell_type": "code",
   "execution_count": 18,
   "metadata": {},
   "outputs": [],
   "source": [
    "run_NoFilterType1 = False\n",
    "if run_NoFilterType1:\n",
    "    NoFilterType1()"
   ]
  },
  {
   "cell_type": "code",
   "execution_count": 19,
   "metadata": {},
   "outputs": [],
   "source": [
    "def NoFilterType2():\n",
    "    FilterType = 'no_filter_type_2'\n",
    "    nBarotropicTimeSteps = 30\n",
    "    PrimaryWeights, SecondaryWeights = DetermineFilterWeights(FilterType,0.5,2.0,2.0,nBarotropicTimeSteps)\n",
    "    print('With no filter of type 2, the sum of all primary weights is %.6f.' %(sum(PrimaryWeights)))\n",
    "    print('With no filter of type 2, the sum of all secondary weights is %.6f.' %(sum(SecondaryWeights)))\n",
    "    Filename = 'NoFilterType2Weights'\n",
    "    CR.PythonPlots1DSaveAsPNG('MPAS_O_Shallow_Water_Output',np.linspace(1.0/float(nBarotropicTimeSteps),2.0,\n",
    "                                                                        2*nBarotropicTimeSteps),PrimaryWeights,\n",
    "                              SecondaryWeights,2.0,True,True,'Fraction of Baroclinic Time Step',10,'Weights',10,\n",
    "                              'Primary Weights','Secondary Weights','center left',' ',True,7.5,True,Filename,True)"
   ]
  },
  {
   "cell_type": "code",
   "execution_count": 20,
   "metadata": {},
   "outputs": [],
   "source": [
    "run_NoFilterType2 = False\n",
    "if run_NoFilterType2:\n",
    "    NoFilterType2()"
   ]
  },
  {
   "cell_type": "code",
   "execution_count": 21,
   "metadata": {},
   "outputs": [],
   "source": [
    "def RectangularFilter(RectangularFilterRange):\n",
    "    FilterType = 'rectangular'\n",
    "    nBarotropicTimeSteps = 30\n",
    "    PrimaryWeights, SecondaryWeights = DetermineFilterWeights(FilterType,RectangularFilterRange,2.0,2.0,\n",
    "                                                              nBarotropicTimeSteps)\n",
    "    print('The sum of all primary weights of the rectangular filter with range %.2f is %.6f.'\n",
    "          %(RectangularFilterRange,sum(PrimaryWeights)))\n",
    "    print('The sum of all secondary weights of the rectangular filter with range %.2f is %.6f.'\n",
    "          %(RectangularFilterRange,sum(SecondaryWeights)))\n",
    "    Filename = 'RectangularFilterWeights'+str(RectangularFilterRange)\n",
    "    CR.PythonPlots1DSaveAsPNG('MPAS_O_Shallow_Water_Output',np.linspace(1.0/float(nBarotropicTimeSteps),2.0,\n",
    "                                                                        2*nBarotropicTimeSteps),PrimaryWeights,\n",
    "                              SecondaryWeights,2.0,True,True,'Fraction of Baroclinic Time Step',10,'Weights',10,\n",
    "                              'Primary Weights','Secondary Weights','center left',' ',True,7.5,True,Filename,True)"
   ]
  },
  {
   "cell_type": "code",
   "execution_count": 22,
   "metadata": {},
   "outputs": [],
   "source": [
    "run_RectangularFilterRangeOne = False\n",
    "if run_RectangularFilterRangeOne:\n",
    "    RectangularFilter(1.0)"
   ]
  },
  {
   "cell_type": "code",
   "execution_count": 23,
   "metadata": {},
   "outputs": [],
   "source": [
    "run_RectangularFilterRangeHalf = False\n",
    "if run_RectangularFilterRangeHalf:\n",
    "    RectangularFilter(0.5)"
   ]
  },
  {
   "cell_type": "code",
   "execution_count": 24,
   "metadata": {},
   "outputs": [],
   "source": [
    "def ROMSCosineFilter():\n",
    "    FilterType = 'ROMS_cosine'\n",
    "    nBarotropicTimeSteps = 30\n",
    "    PrimaryWeights, SecondaryWeights = DetermineFilterWeights(FilterType,0.5,2.0,2.0,nBarotropicTimeSteps)\n",
    "    print('The sum of all primary weights of the ROMS cosine filter is %.6f.' %sum(PrimaryWeights))\n",
    "    print('The sum of all secondary weights of the ROMS cosine filter is %.6f.' %sum(SecondaryWeights))\n",
    "    Filename = 'ROMSCosineFilterWeights'\n",
    "    CR.PythonPlots1DSaveAsPNG('MPAS_O_Shallow_Water_Output',np.linspace(1.0/float(nBarotropicTimeSteps),2.0,\n",
    "                                                                        2*nBarotropicTimeSteps),PrimaryWeights,\n",
    "                              SecondaryWeights,2.0,True,True,'Fraction of Baroclinic Time Step',10,'Weights',10,\n",
    "                              'Primary Weights','Secondary Weights','center left',' ',True,7.5,True,Filename,True)"
   ]
  },
  {
   "cell_type": "code",
   "execution_count": 25,
   "metadata": {},
   "outputs": [],
   "source": [
    "run_ROMSCosineFilter = False\n",
    "if run_ROMSCosineFilter:\n",
    "    ROMSCosineFilter()"
   ]
  },
  {
   "cell_type": "code",
   "execution_count": 26,
   "metadata": {},
   "outputs": [],
   "source": [
    "def HammingWindowCosineFilter():\n",
    "    FilterType = 'Hamming_window_cosine'\n",
    "    nBarotropicTimeSteps = 30\n",
    "    PrimaryWeights, SecondaryWeights = DetermineFilterWeights(FilterType,0.5,2.0,2.0,nBarotropicTimeSteps)\n",
    "    print('The sum of all primary weights of the Hamming window cosine filter is %.6f.' %sum(PrimaryWeights))\n",
    "    print('The sum of all secondary weights of the Hamming window cosine filter is %.6f.' %sum(SecondaryWeights))\n",
    "    Filename = 'HammingWindowCosineFilterWeights'\n",
    "    CR.PythonPlots1DSaveAsPNG('MPAS_O_Shallow_Water_Output',np.linspace(1.0/float(nBarotropicTimeSteps),2.0,\n",
    "                                                                        2*nBarotropicTimeSteps),PrimaryWeights,\n",
    "                              SecondaryWeights,2.0,True,True,'Fraction of Baroclinic Time Step',10,'Weights',10,\n",
    "                              'Primary Weights','Secondary Weights','center left',' ',True,7.5,True,Filename,True)"
   ]
  },
  {
   "cell_type": "code",
   "execution_count": 27,
   "metadata": {},
   "outputs": [],
   "source": [
    "run_HammingWindowCosineFilter = False\n",
    "if run_HammingWindowCosineFilter:\n",
    "    HammingWindowCosineFilter()"
   ]
  },
  {
   "cell_type": "code",
   "execution_count": 28,
   "metadata": {},
   "outputs": [],
   "source": [
    "def ShchepetkinFilter_SecondOrderAccurate(pShchepetkin,qShchepetkin):\n",
    "    FilterType = 'Shchepetkin_SecondOrderAccurate'\n",
    "    nBarotropicTimeSteps = 30\n",
    "    PrimaryWeights, SecondaryWeights = DetermineFilterWeights(FilterType,0.5,pShchepetkin,qShchepetkin,\n",
    "                                                              nBarotropicTimeSteps)\n",
    "    print('The sum of all primary weights of the second order accurate Shchepetkin filter is %.6f.'\n",
    "          %sum(PrimaryWeights))\n",
    "    print('The sum of all secondary weights of the second order accurate Shchepetkin filter is %.6f.'\n",
    "          %sum(SecondaryWeights))\n",
    "    Filename = 'ShchepetkinFilterWeights_SecondOrderAccurate'\n",
    "    CR.PythonPlots1DSaveAsPNG('MPAS_O_Shallow_Water_Output',np.linspace(1.0/float(nBarotropicTimeSteps),2.0,\n",
    "                                                                        2*nBarotropicTimeSteps),PrimaryWeights,\n",
    "                              SecondaryWeights,2.0,True,True,'Fraction of Baroclinic Time Step',10,'Weights',10,\n",
    "                              'Primary Weights','Secondary Weights','center left',' ',True,7.5,True,Filename,True)"
   ]
  },
  {
   "cell_type": "code",
   "execution_count": 29,
   "metadata": {},
   "outputs": [],
   "source": [
    "run_ShchepetkinFilter_SecondOrderAccurate_p2_q2 = False\n",
    "if run_ShchepetkinFilter_SecondOrderAccurate_p2_q2:\n",
    "    ShchepetkinFilter_SecondOrderAccurate(2.0,2.0)"
   ]
  },
  {
   "cell_type": "code",
   "execution_count": 30,
   "metadata": {},
   "outputs": [],
   "source": [
    "run_ShchepetkinFilter_SecondOrderAccurate_p2_q4 = False\n",
    "if run_ShchepetkinFilter_SecondOrderAccurate_p2_q4:\n",
    "    ShchepetkinFilter_SecondOrderAccurate(2.0,4.0)"
   ]
  },
  {
   "cell_type": "code",
   "execution_count": 31,
   "metadata": {},
   "outputs": [],
   "source": [
    "def ShchepetkinFilter_MinimalDispersion(pShchepetkin,qShchepetkin):\n",
    "    FilterType = 'Shchepetkin_MinimalDispersion'\n",
    "    nBarotropicTimeSteps = 30\n",
    "    PrimaryWeights, SecondaryWeights = DetermineFilterWeights(FilterType,0.5,pShchepetkin,qShchepetkin,\n",
    "                                                              nBarotropicTimeSteps)\n",
    "    print('The sum of all primary weights of the Shchepetkin filter optimized for minimal dispersion is %.6f.'\n",
    "          %sum(PrimaryWeights))\n",
    "    print('The sum of all secondary weights of the Shchepetkin filter optimized for minimal dispersion is %.6f.'\n",
    "          %sum(SecondaryWeights))\n",
    "    Filename = 'ShchepetkinFilterWeights_MinimalDispersion'\n",
    "    CR.PythonPlots1DSaveAsPNG('MPAS_O_Shallow_Water_Output',np.linspace(1.0/float(nBarotropicTimeSteps),2.0,\n",
    "                                                                        2*nBarotropicTimeSteps),PrimaryWeights,\n",
    "                              SecondaryWeights,2.0,True,True,'Fraction of Baroclinic Time Step',10,'Weights',10,\n",
    "                              'Primary Weights','Secondary Weights','center left',' ',True,7.5,True,Filename,True)"
   ]
  },
  {
   "cell_type": "code",
   "execution_count": 32,
   "metadata": {},
   "outputs": [],
   "source": [
    "run_ShchepetkinFilter_MinimalDispersion_p2_q2 = False\n",
    "if run_ShchepetkinFilter_MinimalDispersion_p2_q2:\n",
    "    ShchepetkinFilter_MinimalDispersion(2.0,2.0)"
   ]
  },
  {
   "cell_type": "code",
   "execution_count": 33,
   "metadata": {},
   "outputs": [],
   "source": [
    "run_ShchepetkinFilter_MinimalDispersion_p2_q4 = False\n",
    "if run_ShchepetkinFilter_MinimalDispersion_p2_q4:\n",
    "    ShchepetkinFilter_MinimalDispersion(2.0,4.0)"
   ]
  },
  {
   "cell_type": "code",
   "execution_count": 34,
   "metadata": {},
   "outputs": [
    {
     "name": "stdout",
     "output_type": "stream",
     "text": [
      "[NbConvertApp] Converting notebook Filter_Routines.ipynb to script\n",
      "[NbConvertApp] Writing 28927 bytes to Filter_Routines.py\n"
     ]
    }
   ],
   "source": [
    "!jupyter nbconvert --to script Filter_Routines.ipynb"
   ]
  }
 ],
 "metadata": {
  "kernelspec": {
   "display_name": "Python 3",
   "language": "python",
   "name": "python3"
  },
  "language_info": {
   "codemirror_mode": {
    "name": "ipython",
    "version": 3
   },
   "file_extension": ".py",
   "mimetype": "text/x-python",
   "name": "python",
   "nbconvert_exporter": "python",
   "pygments_lexer": "ipython3",
   "version": "3.6.10"
  }
 },
 "nbformat": 4,
 "nbformat_minor": 2
}
